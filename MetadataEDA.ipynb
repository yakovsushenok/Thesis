{
  "nbformat": 4,
  "nbformat_minor": 0,
  "metadata": {
    "colab": {
      "name": "MetadataEDA.ipynb",
      "provenance": [],
      "authorship_tag": "ABX9TyMTgy/AoXwm2854bKdLKm8F",
      "include_colab_link": true
    },
    "kernelspec": {
      "name": "python3",
      "display_name": "Python 3"
    },
    "language_info": {
      "name": "python"
    }
  },
  "cells": [
    {
      "cell_type": "markdown",
      "metadata": {
        "id": "view-in-github",
        "colab_type": "text"
      },
      "source": [
        "<a href=\"https://colab.research.google.com/github/yakovsushenok/Thesis/blob/main/MetadataEDA.ipynb\" target=\"_parent\"><img src=\"https://colab.research.google.com/assets/colab-badge.svg\" alt=\"Open In Colab\"/></a>"
      ]
    },
    {
      "cell_type": "code",
      "execution_count": 1,
      "metadata": {
        "colab": {
          "base_uri": "https://localhost:8080/"
        },
        "id": "VrMTQ58ptRD5",
        "outputId": "7caac592-193b-4cd5-aa09-be4935178394"
      },
      "outputs": [
        {
          "output_type": "stream",
          "name": "stdout",
          "text": [
            "Mounted at /content/gdrive\n"
          ]
        }
      ],
      "source": [
        "from google.colab import drive\n",
        "import pandas as pd\n",
        "drive.mount('/content/gdrive')\n",
        "df = pd.read_csv(\"/content/gdrive/MyDrive/train_metadata.csv\") # the metadata"
      ]
    },
    {
      "cell_type": "markdown",
      "source": [
        "# Basic Descriptive Statistics"
      ],
      "metadata": {
        "id": "lyyfeQ6KtbXa"
      }
    },
    {
      "cell_type": "code",
      "source": [
        "df.info()"
      ],
      "metadata": {
        "colab": {
          "base_uri": "https://localhost:8080/"
        },
        "id": "_CLKaw1gthji",
        "outputId": "18db6c42-1d56-45ba-eea4-f3453313a6c0"
      },
      "execution_count": 2,
      "outputs": [
        {
          "output_type": "stream",
          "name": "stdout",
          "text": [
            "<class 'pandas.core.frame.DataFrame'>\n",
            "RangeIndex: 62874 entries, 0 to 62873\n",
            "Data columns (total 14 columns):\n",
            " #   Column            Non-Null Count  Dtype  \n",
            "---  ------            --------------  -----  \n",
            " 0   primary_label     62874 non-null  object \n",
            " 1   secondary_labels  62874 non-null  object \n",
            " 2   type              62874 non-null  object \n",
            " 3   latitude          62874 non-null  float64\n",
            " 4   longitude         62874 non-null  float64\n",
            " 5   scientific_name   62874 non-null  object \n",
            " 6   common_name       62874 non-null  object \n",
            " 7   author            62874 non-null  object \n",
            " 8   date              62874 non-null  object \n",
            " 9   filename          62874 non-null  object \n",
            " 10  license           62874 non-null  object \n",
            " 11  rating            62874 non-null  float64\n",
            " 12  time              62874 non-null  object \n",
            " 13  url               62874 non-null  object \n",
            "dtypes: float64(3), object(11)\n",
            "memory usage: 6.7+ MB\n"
          ]
        }
      ]
    },
    {
      "cell_type": "code",
      "source": [
        "for i in df.columns:\n",
        "  print(f\"{i} : {df[i].value_counts()}\\n\\n\")\n",
        "\n",
        "# seems like in primary label there's a big difference in occurrence between the labels  "
      ],
      "metadata": {
        "colab": {
          "base_uri": "https://localhost:8080/"
        },
        "id": "Lr9cbS9Vt2qT",
        "outputId": "121eaf51-59e7-40b0-ee42-08ac8c0707ae"
      },
      "execution_count": 3,
      "outputs": [
        {
          "output_type": "stream",
          "name": "stdout",
          "text": [
            "primary_label : redcro     500\n",
            "comrav     500\n",
            "houspa     500\n",
            "norcar     500\n",
            "barswa     500\n",
            "          ... \n",
            "whcpar      12\n",
            "wegspa1     10\n",
            "runwre1      9\n",
            "crfpar       8\n",
            "stvhum2      8\n",
            "Name: primary_label, Length: 397, dtype: int64\n",
            "\n",
            "\n",
            "secondary_labels : []                                           41358\n",
            "['rewbla']                                     292\n",
            "['amerob']                                     235\n",
            "['houspa']                                     218\n",
            "['norcar']                                     205\n",
            "                                             ...  \n",
            "['moudov', 'carwre', 'whtspa', 'norcar']         1\n",
            "['sltred', 'strcuc1']                            1\n",
            "['easpho', 'sonspa', 'belkin1', 'bkcchi']        1\n",
            "['whtspa', 'whbnut', 'amerob']                   1\n",
            "['amered', 'eawpew', 'norcar', 'reevir1']        1\n",
            "Name: secondary_labels, Length: 10918, dtype: int64\n",
            "\n",
            "\n",
            "type : ['song']                                      22586\n",
            "['call']                                      15238\n",
            "['call', 'song']                               3305\n",
            "['flight call']                                1950\n",
            "['male', 'song']                               1577\n",
            "                                              ...  \n",
            "['call', 'soft song']                             1\n",
            "['aberrant song', 'song']                         1\n",
            "['call', 'possible plastic song?', 'song']        1\n",
            "['checks and calls', 'call']                      1\n",
            "['chimp call', 'male', 'song']                    1\n",
            "Name: type, Length: 3090, dtype: int64\n",
            "\n",
            "\n",
            "latitude :  31.9060    637\n",
            " 31.3400    394\n",
            " 40.8918    226\n",
            " 4.3510     224\n",
            " 4.6717     210\n",
            "           ... \n",
            "-23.8136      1\n",
            "-28.6750      1\n",
            " 10.3061      1\n",
            "-22.4902      1\n",
            " 32.2357      1\n",
            "Name: latitude, Length: 16068, dtype: int64\n",
            "\n",
            "\n",
            "longitude : -109.1543    637\n",
            "-109.2730    394\n",
            "-91.0756     226\n",
            "-74.6520     224\n",
            "-75.6283     210\n",
            "            ... \n",
            "-73.9088       1\n",
            "-74.3036       1\n",
            "-83.8024       1\n",
            "-73.9984       1\n",
            "-99.8811       1\n",
            "Name: longitude, Length: 16111, dtype: int64\n",
            "\n",
            "\n",
            "scientific_name : Loxia curvirostra            500\n",
            "Corvus corax                 500\n",
            "Passer domesticus            500\n",
            "Cardinalis cardinalis        500\n",
            "Hirundo rustica              500\n",
            "                            ... \n",
            "Pionus senilis                12\n",
            "Melozone leucotis             10\n",
            "Campylorhynchus rufinucha      9\n",
            "Psittacara finschi             8\n",
            "Amazilia saucerottei           8\n",
            "Name: scientific_name, Length: 397, dtype: int64\n",
            "\n",
            "\n",
            "common_name : Red Crossbill                 500\n",
            "Common Raven                  500\n",
            "House Sparrow                 500\n",
            "Northern Cardinal             500\n",
            "Barn Swallow                  500\n",
            "                             ... \n",
            "White-crowned Parrot           12\n",
            "White-eared Ground-Sparrow     10\n",
            "Rufous-naped Wren               9\n",
            "Crimson-fronted Parakeet        8\n",
            "Steely-vented Hummingbird       8\n",
            "Name: common_name, Length: 397, dtype: int64\n",
            "\n",
            "\n",
            "author : Richard E. Webster                  5236\n",
            "Paul Marvin                         3477\n",
            "Manuel Grosselet                    1805\n",
            "Niels Krabbe                        1368\n",
            "Bobby Wilcox                        1280\n",
            "                                    ... \n",
            "Grégoire Duffez                        1\n",
            "Ed                                     1\n",
            "Glenda Pozo-Zamora y Jorge Brito       1\n",
            "Andrea Hinek                           1\n",
            "Paul J Willoughby                      1\n",
            "Name: author, Length: 2129, dtype: int64\n",
            "\n",
            "\n",
            "date : 2003-03-00    113\n",
            "0000-00-00    112\n",
            "2015-05-31    111\n",
            "2014-06-15    100\n",
            "2020-05-21     99\n",
            "             ... \n",
            "1998-06-18      1\n",
            "1991-09-23      1\n",
            "2005-02-14      1\n",
            "2003-11-18      1\n",
            "1994-03-03      1\n",
            "Name: date, Length: 6618, dtype: int64\n",
            "\n",
            "\n",
            "filename : XC109605.ogg    1\n",
            "XC195784.ogg    1\n",
            "XC288979.ogg    1\n",
            "XC309486.ogg    1\n",
            "XC323999.ogg    1\n",
            "               ..\n",
            "XC382235.ogg    1\n",
            "XC388583.ogg    1\n",
            "XC388709.ogg    1\n",
            "XC389236.ogg    1\n",
            "XC615888.ogg    1\n",
            "Name: filename, Length: 62874, dtype: int64\n",
            "\n",
            "\n",
            "license : Creative Commons Attribution-NonCommercial-ShareAlike 4.0    49348\n",
            "Creative Commons Attribution-NonCommercial-ShareAlike 3.0    12105\n",
            "Creative Commons Attribution-ShareAlike 4.0                   1017\n",
            "Creative Commons Attribution-ShareAlike 3.0                    404\n",
            "Name: license, dtype: int64\n",
            "\n",
            "\n",
            "rating : 4.0    14393\n",
            "5.0    13410\n",
            "3.5    10660\n",
            "4.5    10423\n",
            "3.0     5009\n",
            "2.5     3484\n",
            "0.0     3334\n",
            "2.0     1121\n",
            "1.5      674\n",
            "1.0      212\n",
            "0.5      154\n",
            "Name: rating, dtype: int64\n",
            "\n",
            "\n",
            "time : ?           4360\n",
            "08:00       2766\n",
            "07:00       2490\n",
            "09:00       2464\n",
            "07:30       2243\n",
            "            ... \n",
            "03:42:21       1\n",
            "03:23:01       1\n",
            "07:45:51       1\n",
            "08:54:43       1\n",
            "18:19:02       1\n",
            "Name: time, Length: 2190, dtype: int64\n",
            "\n",
            "\n",
            "url : https://www.xeno-canto.org/109605    1\n",
            "https://www.xeno-canto.org/195784    1\n",
            "https://www.xeno-canto.org/288979    1\n",
            "https://www.xeno-canto.org/309486    1\n",
            "https://www.xeno-canto.org/323999    1\n",
            "                                    ..\n",
            "https://www.xeno-canto.org/382235    1\n",
            "https://www.xeno-canto.org/388583    1\n",
            "https://www.xeno-canto.org/388709    1\n",
            "https://www.xeno-canto.org/389236    1\n",
            "https://www.xeno-canto.org/615888    1\n",
            "Name: url, Length: 62874, dtype: int64\n",
            "\n",
            "\n"
          ]
        }
      ]
    },
    {
      "cell_type": "code",
      "source": [
        "len(df[(df['primary_label'].value_counts().reindex(df['primary_label'])>299).values & (df['rating'] > 3.5)])"
      ],
      "metadata": {
        "colab": {
          "base_uri": "https://localhost:8080/"
        },
        "id": "3VeluXqOxREv",
        "outputId": "c65e13bd-0eb5-482d-ef63-482a57ff4236"
      },
      "execution_count": 4,
      "outputs": [
        {
          "output_type": "execute_result",
          "data": {
            "text/plain": [
              "10622"
            ]
          },
          "metadata": {},
          "execution_count": 4
        }
      ]
    },
    {
      "cell_type": "markdown",
      "source": [
        "Since the training of the samples takes a long time, I think I'll keep only those labels which appear 300 times or more and those which have 4 or higher rating of the quality of the recording."
      ],
      "metadata": {
        "id": "DkcYyPaewQAq"
      }
    },
    {
      "cell_type": "code",
      "source": [
        "#df1 = df[(df['primary_label'].value_counts().reindex(df['primary_label'])>299).values & (df['rating'] > 3.5)]\n",
        "df1 = df[(df['primary_label'].value_counts().reindex(df['primary_label'])>485).values]\n",
        "len(df1['primary_label'].value_counts())"
      ],
      "metadata": {
        "colab": {
          "base_uri": "https://localhost:8080/"
        },
        "id": "kYVgOLWfyeDG",
        "outputId": "2039cf63-e06a-4b2a-9dfa-e06ae88dd13c"
      },
      "execution_count": 29,
      "outputs": [
        {
          "output_type": "execute_result",
          "data": {
            "text/plain": [
              "12"
            ]
          },
          "metadata": {},
          "execution_count": 29
        }
      ]
    },
    {
      "cell_type": "code",
      "source": [
        "df1['primary_label'].value_counts()"
      ],
      "metadata": {
        "colab": {
          "base_uri": "https://localhost:8080/"
        },
        "id": "TNSyndbKPG1u",
        "outputId": "e1f80777-186f-48f5-ac2c-18d7de0939cc"
      },
      "execution_count": 27,
      "outputs": [
        {
          "output_type": "execute_result",
          "data": {
            "text/plain": [
              "barswa     500\n",
              "comrav     500\n",
              "cubthr     500\n",
              "eursta     500\n",
              "gbwwre1    500\n",
              "houspa     500\n",
              "houwre     500\n",
              "norcar     500\n",
              "redcro     500\n",
              "rewbla     500\n",
              "sonspa     500\n",
              "spotow     500\n",
              "Name: primary_label, dtype: int64"
            ]
          },
          "metadata": {},
          "execution_count": 27
        }
      ]
    },
    {
      "cell_type": "code",
      "source": [
        "df1.to_csv(\"/content/gdrive/MyDrive/train_metadata_more_than_500.csv\")"
      ],
      "metadata": {
        "id": "-sVD5flOP7Zo"
      },
      "execution_count": 31,
      "outputs": []
    }
  ]
}