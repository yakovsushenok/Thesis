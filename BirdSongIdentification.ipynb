{
  "cells": [
    {
      "cell_type": "markdown",
      "metadata": {
        "id": "view-in-github",
        "colab_type": "text"
      },
      "source": [
        "<a href=\"https://colab.research.google.com/github/yakovsushenok/Thesis/blob/main/BirdSongIdentification.ipynb\" target=\"_parent\"><img src=\"https://colab.research.google.com/assets/colab-badge.svg\" alt=\"Open In Colab\"/></a>"
      ]
    },
    {
      "cell_type": "code",
      "execution_count": 8,
      "metadata": {
        "colab": {
          "base_uri": "https://localhost:8080/"
        },
        "id": "qwAodtP0mIFZ",
        "outputId": "21aa88c7-dd59-4b0e-dd3f-a4a0260fa71e"
      },
      "outputs": [
        {
          "output_type": "stream",
          "name": "stdout",
          "text": [
            "Drive already mounted at /content/gdrive; to attempt to forcibly remount, call drive.mount(\"/content/gdrive\", force_remount=True).\n"
          ]
        }
      ],
      "source": [
        "import zipfile\n",
        "import os\n",
        "import pandas as pd\n",
        "import math, random\n",
        "import torch\n",
        "import torchaudio\n",
        "from torchaudio import transforms\n",
        "from torch.utils.data import DataLoader, Dataset, random_split\n",
        "import torch.nn.functional as F\n",
        "import torch.nn as nn\n",
        "from torch.nn import init\n",
        "from google.colab import drive\n",
        "from sklearn.model_selection import StratifiedShuffleSplit\n",
        "drive.mount('/content/gdrive')\n",
        "import time\n",
        "import matplotlib.pyplot as plt\n",
        "import numpy as np\n",
        "import numpy.matlib\n",
        "try:\n",
        "    from scipy.fftpack import fft, ifft\n",
        "except ImportError:\n",
        "    from numpy.fft import fft, ifft\n",
        "from scipy.signal import lfilter\n",
        "import scipy.io as sio\n",
        "from scipy import signal\n",
        "import gc\n",
        "import h5py\n",
        "np.random.seed(0)"
      ]
    },
    {
      "cell_type": "markdown",
      "metadata": {
        "id": "ibpWhcb2BuOF"
      },
      "source": [
        "# Data"
      ]
    },
    {
      "cell_type": "code",
      "execution_count": null,
      "metadata": {
        "id": "yyqhHqKadWAN"
      },
      "outputs": [],
      "source": [
        "# extracting the training data (audio files) from the zip file (12 minutes)\n",
        "zip_ref = zipfile.ZipFile('/content/gdrive/MyDrive/train_short_audio.zip', 'r')\n",
        "zip_ref.extractall('/content/tmp') \n",
        "zip_ref.close()"
      ]
    },
    {
      "cell_type": "code",
      "execution_count": 2,
      "metadata": {
        "id": "h4DrXTGvfmQe"
      },
      "outputs": [],
      "source": [
        "# extracting the data which has audio files that are of similar length to the testing data\n",
        "zip_ref = zipfile.ZipFile('/content/gdrive/MyDrive/train_soundscapes.zip', 'r')\n",
        "zip_ref.extractall('/content/trainSoundscapes') \n",
        "zip_ref.close()\n",
        "\n",
        "df = pd.read_csv(\"/content/gdrive/MyDrive/train_metadata.csv\") # the metadata\n",
        "df['relative_path'] = '/content/tmp/' + df['primary_label'] + '/' + df['filename'] "
      ]
    },
    {
      "cell_type": "markdown",
      "metadata": {
        "id": "NsG9J8nCm-Ss"
      },
      "source": [
        "### Subsetting the data so that we're left with subspecies which have 300+ samples and with audio rated 4.0+"
      ]
    },
    {
      "cell_type": "code",
      "execution_count": 3,
      "metadata": {
        "id": "gACq0PqQtFDs"
      },
      "outputs": [],
      "source": [
        "df = df[(df['primary_label'].value_counts().reindex(df['primary_label'])>299).values & (df['rating'] > 3.5)]\n",
        "df = df[['relative_path', 'primary_label']]\n",
        "unique_labels = df.primary_label.unique()\n",
        "mapping = dict(zip(unique_labels, range(len(unique_labels))))\n",
        "df.primary_label = df.primary_label.map(mapping)"
      ]
    },
    {
      "cell_type": "markdown",
      "metadata": {
        "id": "8S2CQaDLbCL9"
      },
      "source": [
        "### We're going to partition our data into a training/validation/testing test with 80% being the training, 10% for validating and 10% for testing with each species category having the same distribution."
      ]
    },
    {
      "cell_type": "code",
      "execution_count": 4,
      "metadata": {
        "id": "v0ClluLca1oX"
      },
      "outputs": [],
      "source": [
        "# splitting into train, val+test\n",
        "X, y = df['relative_path'], df['primary_label']\n",
        "split1 = StratifiedShuffleSplit(n_splits=2, test_size=0.2, random_state=0)\n",
        "train_index, val_test = next(split1.split(X, y))\n",
        "# splitting into val, test\n",
        "X1, y1 = df.iloc[val_test, 0], df.iloc[val_test, 1]\n",
        "split2 = StratifiedShuffleSplit(n_splits=2, test_size=0.5, random_state=0)\n",
        "val_index, test_index = next(split2.split(X1, y1))\n",
        "# subsetting the datasets\n",
        "df_train = df.iloc[train_index,:]\n",
        "df_val = df.iloc[val_index, :]\n",
        "df_test = df.iloc[test_index, :]"
      ]
    },
    {
      "cell_type": "markdown",
      "metadata": {
        "id": "CW-iaKXPK_8l"
      },
      "source": [
        "# Utility classes"
      ]
    },
    {
      "cell_type": "code",
      "execution_count": 5,
      "metadata": {
        "id": "fI9doie9yewR"
      },
      "outputs": [],
      "source": [
        "### MRCG CODE\n",
        "epsc = 0.000001\n",
        "\n",
        "def mrcg_extract(sig, sampFreq = 32000): # Sample frequency is always 32,000 in our case\n",
        "    # Code From: https://github.com/MoongMoong/MRCG_python/blob/master/MRCG_python_master/mrcg/MRCG.py\n",
        "    \n",
        "    beta = 1000 / np.sqrt(sum(map(lambda x:x*x,sig)) / len(sig))\n",
        "    sig = sig*beta\n",
        "    sig = sig.reshape(len(sig), 1)\n",
        "    g = gammatone(sig, 64, sampFreq)\n",
        "    cochlea1 = np.log10(cochleagram(g, int(sampFreq * 0.025), int(sampFreq * 0.010)))\n",
        "    cochlea2 = np.log10(cochleagram(g, int(sampFreq * 0.200), int(sampFreq * 0.010)))\n",
        "    cochlea1 = cochlea1[:,:]\n",
        "    cochlea2 = cochlea2[:,:]\n",
        "    cochlea3 = get_avg(cochlea1, 5, 5)\n",
        "    cochlea4 = get_avg(cochlea1, 11, 11)\n",
        "    \n",
        "    all_cochleas = np.concatenate([cochlea1,cochlea2,cochlea3,cochlea4],0)\n",
        "    del0 = deltas(all_cochleas)\n",
        "    ddel = deltas(deltas(all_cochleas, 5), 5)\n",
        "\n",
        "    ouotput = np.concatenate((all_cochleas, del0, ddel), 0)\n",
        "\n",
        "    return ouotput\n",
        "\n",
        "def gammatone(insig, numChan=128, fs = 16000): \n",
        "    fRange = [50, 8000]\n",
        "    filterOrder = 4\n",
        "    gL = 2048\n",
        "    sigLength = len(insig)\n",
        "    phase = np.zeros([numChan, 1])\n",
        "    erb_b = hz2erb(fRange)\n",
        "\n",
        "    \n",
        "    erb_b_diff = (erb_b[1]-erb_b[0])/(numChan-1)\n",
        "    erb = np.arange(erb_b[0], erb_b[1]+epsc, erb_b_diff)\n",
        "    cf = erb2hz(erb)\n",
        "    b = [1.019 * 24.7 * (4.37 * x / 1000 + 1) for x in cf]\n",
        "    gt = np.zeros([numChan, gL])\n",
        "    tmp_t = np.arange(1,gL+1)/fs\n",
        "    for i in range(numChan):\n",
        "        gain = 10**((loudness(cf[i])-60)/20)/3*(2 * np.pi * b[i] / fs)**4\n",
        "        tmp_temp = [gain*(fs**3)*x**(filterOrder - 1)*np.exp(-2 * np.pi * b[i] * x)*np.cos(2 * np.pi * cf[i] * x + phase[i]) for x in tmp_t]\n",
        "        tmp_temp2 = np.reshape(tmp_temp, [1, gL])\n",
        "\n",
        "        gt[i, :] = tmp_temp2\n",
        "\n",
        "    sig = np.reshape(insig,[sigLength,1])\n",
        "    gt2 = np.transpose(gt)\n",
        "    resig = np.matlib.repmat(sig,1,numChan)\n",
        "    r = np.transpose(fftfilt(gt2,resig,numChan))\n",
        "    return r\n",
        "\n",
        "def hz2erb(hz):  \n",
        "    erb1 = 0.00437\n",
        "    erb2 = np.multiply(erb1,hz)\n",
        "    erb3 = np.subtract(erb2,-1)\n",
        "    erb4 = np.log10(erb3)\n",
        "    erb = 21.4 *erb4\n",
        "    return erb\n",
        "\n",
        "def erb2hz(erb): \n",
        "    hz = [(10**(x/21.4)-1)/(0.00437) for x in erb]\n",
        "    return hz\n",
        "\n",
        "def loudness(freq): \n",
        "    dB=60\n",
        "    fmat = sio.loadmat('/content/gdrive/MyDrive/f_af_bf_cf.mat')\n",
        "    af = fmat['af'][0]\n",
        "    bf = fmat['bf'][0]\n",
        "    cf = fmat['cf'][0]\n",
        "    ff = fmat['ff'][0]\n",
        "    i = 0\n",
        "    while ff[i] < freq:\n",
        "        i = i + 1\n",
        "\n",
        "    afy = af[i - 1] + (freq - ff[i - 1]) * (af[i] - af[i - 1]) / (ff[i] - ff[i - 1])\n",
        "    bfy = bf[i - 1] + (freq - ff[i - 1]) * (bf[i] - bf[i - 1]) / (ff[i] - ff[i - 1])\n",
        "    cfy = cf[i - 1] + (freq - ff[i - 1]) * (cf[i] - cf[i - 1]) / (ff[i] - ff[i - 1])\n",
        "    loud = 4.2 + afy * (dB - cfy) / (1 + bfy * (dB - cfy))\n",
        "    return loud\n",
        "\n",
        "def fftfilt(b,x,nfft): \n",
        "    fftflops = [18, 59, 138, 303, 660, 1441, 3150, 6875, 14952, 32373, 69762,\n",
        "                149647, 319644, 680105, 1441974, 3047619, 6422736, 13500637, 28311786,\n",
        "                59244791, 59244791*2.09]\n",
        "    nb, _ = np.shape(b)\n",
        "    nx, mx = np.shape(x)\n",
        "    n_min = 0\n",
        "    while 2**n_min < nb-1:\n",
        "        n_min = n_min+1\n",
        "    n_temp = np.arange(n_min, 21 + epsc, 1)\n",
        "    n = np.power(2,n_temp)\n",
        "    fftflops = fftflops[n_min-1:21]\n",
        "    L = np.subtract(n,nb-1)\n",
        "    lenL= np.size(L)\n",
        "    temp_ind0 = np.ceil(np.divide(nx,L))\n",
        "    temp_ind = np.multiply(temp_ind0,fftflops)\n",
        "    temp_ind = np.array(temp_ind)\n",
        "    ind = np.argmin(temp_ind)\n",
        "    nfft=int(n[ind])\n",
        "    L=int(L[ind])\n",
        "    b_tr = np.transpose(b)\n",
        "    B_tr = fft(b_tr,nfft)\n",
        "    B = np.transpose(B_tr)\n",
        "    y = np.zeros([nx, mx])\n",
        "    istart = 0\n",
        "    while istart < nx :\n",
        "        iend = min(istart+L,nx)\n",
        "        if (iend - istart) == 1 :\n",
        "            X = x[0][0]*np.ones([nx,mx])\n",
        "        else :\n",
        "            xtr = np.transpose(x[istart:iend][:])\n",
        "            Xtr = fft(xtr,nfft)\n",
        "            X = np.transpose(Xtr)\n",
        "        temp_Y = np.transpose(np.multiply(B,X))\n",
        "        Ytr = ifft(temp_Y,nfft)\n",
        "        Y = np.transpose(Ytr)\n",
        "        yend = np.min([nx, istart + nfft])\n",
        "        y[istart:yend][:] = y[istart:yend][:] + np.real(Y[0:yend-istart][:])\n",
        "\n",
        "        istart = istart + L\n",
        "    \n",
        "    return y\n",
        "\n",
        "def cochleagram(r, winLength = 320, winShift=160): \n",
        "    numChan, sigLength = np.shape(r)\n",
        "    increment = winLength / winShift\n",
        "    M = np.floor(sigLength / winShift)\n",
        "    a = np.zeros([numChan, int(M)])\n",
        "    rs = np.square(r)\n",
        "    rsl = np.concatenate((np.zeros([numChan,winLength-winShift]),rs),1)\n",
        "    for m in range(int(M)):\n",
        "        temp = rsl[:,m*winShift : m*winShift+winLength]\n",
        "        a[:, m] = np.sum(temp,1)\n",
        "\n",
        "    return a\n",
        "\n",
        "def get_avg( m , v_span, h_span): \n",
        "    nr,nc = np.shape(m)\n",
        "\n",
        "    fil_size = (2 * v_span + 1) * (2 * h_span + 1)\n",
        "    meanfil = np.ones([1+2*h_span,1+2*h_span])\n",
        "    meanfil = np.divide(meanfil,fil_size)\n",
        "\n",
        "    out = signal.convolve2d(m, meanfil, boundary='fill', fillvalue=0, mode='same')\n",
        "    return out\n",
        "\n",
        "def deltas(x, w=9) : \n",
        "    nr,nc = np.shape(x)\n",
        "    if nc ==0 :\n",
        "        d= x\n",
        "    else :\n",
        "        hlen = int(np.floor(w / 2))\n",
        "        w = 2 * hlen + 1\n",
        "        win=np.arange(hlen, int(-(hlen+1)), -1)\n",
        "        temp = x[:, 0]\n",
        "        fx = np.matlib.repmat(temp.reshape([-1,1]), 1, int(hlen))\n",
        "        temp = x[:, nc-1]\n",
        "        ex = np.matlib.repmat(temp.reshape([-1,1]), 1, int(hlen))\n",
        "        xx = np.concatenate((fx, x, ex),1)\n",
        "        d = lfilter(win, 1, xx, 1)\n",
        "        d = d[:,2*hlen:nc+2*hlen]\n",
        "\n",
        "    return d"
      ]
    },
    {
      "cell_type": "markdown",
      "metadata": {
        "id": "lzyh9vU40ePE"
      },
      "source": [
        "Now that I have the MRCG code, I want to create a dataset which will hold these MRCG values. This will mean I'll not have to pre-process them every run of the model."
      ]
    },
    {
      "cell_type": "code",
      "execution_count": 6,
      "metadata": {
        "id": "K8tsXpO1Mu5m"
      },
      "outputs": [],
      "source": [
        "def get_mrcg_from_file(file):\n",
        "  \n",
        "  mid = 1937318 # zero padding so that the length is equal to the length of the longest waveform \n",
        "  waveform, sr = torchaudio.load(file)\n",
        "  if len(waveform[0]) < mid:\n",
        "    target = torch.zeros(mid)\n",
        "    source = waveform[0]\n",
        "    target[:len(source)] = source\n",
        "    return mrcg_extract(target)\n",
        "  else:\n",
        "    waveform = waveform[0]\n",
        "    return mrcg_extract(waveform[:mid])"
      ]
    },
    {
      "cell_type": "code",
      "execution_count": null,
      "metadata": {
        "colab": {
          "background_save": true
        },
        "id": "B43wJ2M52NpF"
      },
      "outputs": [],
      "source": [
        "df_list = [i for i in range(0,8600, 100)]\n",
        "df_list[-1] = len(df_train)\n",
        "\n",
        "for i in range(24,len(df_list)-1): # [2706, 0950, stopped at 22] <-- missed 22 (i=21+1)... need to do it.\n",
        "                                   # [2806, 0906, stopped at i=43+1]\n",
        "                                   # for some reason, indices i=14-19 are not being processed (for the tensors)\n",
        "  print(f\"currently on df {i+1}\")\n",
        "  df = df_train[df_list[i]:df_list[i+1]]\n",
        "  #df['mrcg'] = df['relative_path'].apply(get_mrcg_from_file)\n",
        "  df.to_csv(f'/content/gdrive/MyDrive/df_train{i+1}.csv') \n",
        "  x = torch.tensor(get_mrcg_from_file(df['relative_path'].iloc[0]))     \n",
        "  x = x[None, : , :]\n",
        "  for j in range(1,len(df)):\n",
        "    x1 = torch.tensor(get_mrcg_from_file(df['relative_path'].iloc[i])) # 30 sec per sample for mrcg\n",
        "    x1 = x1[None, :, :]\n",
        "    x = torch.cat((x,x1), 0)\n",
        "  torch.save(x, f'/content/gdrive/MyDrive/df_train_tensor{i+1}.pt')"
      ]
    },
    {
      "cell_type": "markdown",
      "metadata": {
        "id": "yZvaLlg-Vo82"
      },
      "source": [
        "# Data Loader"
      ]
    },
    {
      "cell_type": "code",
      "execution_count": null,
      "metadata": {
        "id": "Xd-JqPk785Js"
      },
      "outputs": [],
      "source": [
        "class SoundDS(Dataset):\n",
        "  def __init__(self, df, mrcg_tensor):\n",
        "    self.df = df\n",
        "    self.mrcg_tensor = mrcg_tensor\n",
        "    #self.df['mrcg'] = np.array([mrcg_tensor[i, :, :] for i in range(mrcg_tensor.shape[0])])\n",
        "  \n",
        "  def __len__(self):\n",
        "    return len(self.df)    \n",
        "    \n",
        "  def __getitem__(self, idx):\n",
        "\n",
        "   return (self.mrcg_tensor[idx, :, :], torch.tensor(self.df['primary_label'].iloc[idx]))\n",
        "   #return (torch.tensor(self.df['mrcg'].iloc[idx]), torch.tensor(self.df['primary_label'].iloc[idx]))"
      ]
    },
    {
      "cell_type": "markdown",
      "source": [
        "# H5PY Dataloader, Dataloading\n",
        "https://discuss.pytorch.org/t/save-torch-tensors-as-hdf5/39556"
      ],
      "metadata": {
        "id": "fh6U87MZqqkB"
      }
    },
    {
      "cell_type": "code",
      "source": [
        "\n",
        "tensors = h5py.File('/content/gdrive/MyDrive/train_tensors.h5', 'w') "
      ],
      "metadata": {
        "id": "PrDPMB9RqqVK"
      },
      "execution_count": null,
      "outputs": []
    },
    {
      "cell_type": "code",
      "source": [
        "N = 2000\n",
        "data_train_predictor = tensors.create_dataset('data', shape=(N, 768, 6054), dtype=np.float32, fillvalue=0)"
      ],
      "metadata": {
        "id": "X9qzWJYvs2ka"
      },
      "execution_count": null,
      "outputs": []
    },
    {
      "cell_type": "code",
      "source": [
        "ind_range = [i for i in range(0,2100,100)]\n",
        "ind_range[-1]= 1999"
      ],
      "metadata": {
        "id": "J_jnP0nStIja"
      },
      "execution_count": null,
      "outputs": []
    },
    {
      "cell_type": "code",
      "source": [
        "for i in range(1,len(ind_range)):\n",
        "    x = torch.load(f\"/content/gdrive/MyDrive/df_train_tensor{i}.pt\")\n",
        "    data_train_predictor[ind_range[i-1]:ind_range[i]] = x"
      ],
      "metadata": {
        "id": "w8N9Dnxetikd"
      },
      "execution_count": null,
      "outputs": []
    },
    {
      "cell_type": "code",
      "source": [
        "ten1 = data_train_predictor[0]"
      ],
      "metadata": {
        "id": "I9m5uYQ1yqW6"
      },
      "execution_count": null,
      "outputs": []
    },
    {
      "cell_type": "code",
      "source": [
        "tensors.close()"
      ],
      "metadata": {
        "id": "N78QgzG2uhlC"
      },
      "execution_count": null,
      "outputs": []
    },
    {
      "cell_type": "code",
      "source": [
        "f = h5py.File('/content/gdrive/MyDrive/train_tensors.h5', 'r')"
      ],
      "metadata": {
        "id": "aY5w_e31-QoC"
      },
      "execution_count": 9,
      "outputs": []
    },
    {
      "cell_type": "code",
      "source": [
        "d = f['data'][:1000]"
      ],
      "metadata": {
        "id": "l4FxhF0i-kpr"
      },
      "execution_count": null,
      "outputs": []
    },
    {
      "cell_type": "code",
      "source": [
        "df_temp = df_train[:1000]"
      ],
      "metadata": {
        "id": "OsVqNJ00_xSD"
      },
      "execution_count": null,
      "outputs": []
    },
    {
      "cell_type": "code",
      "source": [
        "class H5DS(Dataset):\n",
        "  def __init__(self, df, h5pyFile):\n",
        "    self.data = h5pyFile\n",
        "    self.df = df\n",
        "  \n",
        "  def __len__(self):\n",
        "    return len(self.df)    \n",
        "    \n",
        "  def __getitem__(self, idx):\n",
        "\n",
        "   return (self.data[idx], torch.tensor(self.df['primary_label'].iloc[idx]))\n"
      ],
      "metadata": {
        "id": "AE-41vTL-zAK"
      },
      "execution_count": 19,
      "outputs": []
    },
    {
      "cell_type": "markdown",
      "metadata": {
        "id": "-o4p3xdRZjbm"
      },
      "source": [
        "# Model"
      ]
    },
    {
      "cell_type": "code",
      "execution_count": null,
      "metadata": {
        "id": "NTXphqjiZkre"
      },
      "outputs": [],
      "source": [
        "class AudioClassifier(nn.Module):\n",
        "    def __init__(self, input_dim, output_dim):\n",
        "        super().__init__()\n",
        "\n",
        "        self.input_fc = nn.Linear(input_dim, 50)\n",
        "        self.hidden_fc = nn.Linear(50, 50)\n",
        "        self.output_fc = nn.Linear(50, output_dim)\n",
        "\n",
        "    def forward(self, x):\n",
        "\n",
        "        # x = [batch size, height, width]\n",
        "       # print(x.shape)\n",
        "        batch_size = x.shape[0]\n",
        "\n",
        "\n",
        "        x = x.view(batch_size, -1)\n",
        "      #  print(x.shape)\n",
        "        # x = [batch size, height * width]\n",
        "\n",
        "        h_1 = F.relu(self.input_fc(x))\n",
        "\n",
        "        # h_1 = [batch size, 250]\n",
        "\n",
        "        h_2 = F.relu(self.hidden_fc(h_1))\n",
        "\n",
        "        # h_2 = [batch size, 100]\n",
        "\n",
        "        y_pred = self.output_fc(h_2)\n",
        "\n",
        "        # y_pred = [batch size, output dim]\n",
        "\n",
        "        return y_pred\n",
        "\n"
      ]
    },
    {
      "cell_type": "markdown",
      "metadata": {
        "id": "DPOhedYHZwaY"
      },
      "source": [
        "# Training"
      ]
    },
    {
      "cell_type": "code",
      "execution_count": null,
      "metadata": {
        "colab": {
          "base_uri": "https://localhost:8080/",
          "height": 235
        },
        "id": "QqPM4EQBZyL3",
        "outputId": "b379bc00-8ec7-4087-e8f1-d3ff77787d8a"
      },
      "outputs": [
        {
          "output_type": "error",
          "ename": "NameError",
          "evalue": "ignored",
          "traceback": [
            "\u001b[0;31m---------------------------------------------------------------------------\u001b[0m",
            "\u001b[0;31mNameError\u001b[0m                                 Traceback (most recent call last)",
            "\u001b[0;32m<ipython-input-1-6ec57991f2b2>\u001b[0m in \u001b[0;36m<module>\u001b[0;34m()\u001b[0m\n\u001b[1;32m      1\u001b[0m \u001b[0;31m# Create the model and put it on the GPU if available\u001b[0m\u001b[0;34m\u001b[0m\u001b[0;34m\u001b[0m\u001b[0;34m\u001b[0m\u001b[0m\n\u001b[0;32m----> 2\u001b[0;31m \u001b[0mmyModel\u001b[0m \u001b[0;34m=\u001b[0m \u001b[0mAudioClassifier\u001b[0m\u001b[0;34m(\u001b[0m\u001b[0;36m768\u001b[0m\u001b[0;34m*\u001b[0m\u001b[0;36m6054\u001b[0m\u001b[0;34m,\u001b[0m \u001b[0;36m39\u001b[0m\u001b[0;34m)\u001b[0m\u001b[0;34m\u001b[0m\u001b[0;34m\u001b[0m\u001b[0m\n\u001b[0m\u001b[1;32m      3\u001b[0m \u001b[0mdevice\u001b[0m \u001b[0;34m=\u001b[0m \u001b[0mtorch\u001b[0m\u001b[0;34m.\u001b[0m\u001b[0mdevice\u001b[0m\u001b[0;34m(\u001b[0m\u001b[0;34m\"cuda:0\"\u001b[0m \u001b[0;32mif\u001b[0m \u001b[0mtorch\u001b[0m\u001b[0;34m.\u001b[0m\u001b[0mcuda\u001b[0m\u001b[0;34m.\u001b[0m\u001b[0mis_available\u001b[0m\u001b[0;34m(\u001b[0m\u001b[0;34m)\u001b[0m \u001b[0;32melse\u001b[0m \u001b[0;34m\"cpu\"\u001b[0m\u001b[0;34m)\u001b[0m \u001b[0;31m#\u001b[0m\u001b[0;34m\u001b[0m\u001b[0;34m\u001b[0m\u001b[0m\n\u001b[1;32m      4\u001b[0m \u001b[0mmyModel\u001b[0m \u001b[0;34m=\u001b[0m \u001b[0mmyModel\u001b[0m\u001b[0;34m.\u001b[0m\u001b[0mto\u001b[0m\u001b[0;34m(\u001b[0m\u001b[0mdevice\u001b[0m\u001b[0;34m)\u001b[0m\u001b[0;34m\u001b[0m\u001b[0;34m\u001b[0m\u001b[0m\n\u001b[1;32m      5\u001b[0m \u001b[0;31m# Check that it is on Cuda\u001b[0m\u001b[0;34m\u001b[0m\u001b[0;34m\u001b[0m\u001b[0;34m\u001b[0m\u001b[0m\n",
            "\u001b[0;31mNameError\u001b[0m: name 'AudioClassifier' is not defined"
          ]
        }
      ],
      "source": [
        "# Create the model and put it on the GPU if available\n",
        "myModel = AudioClassifier(768*6054, 39)\n",
        "device = torch.device(\"cuda:0\" if torch.cuda.is_available() else \"cpu\") #\n",
        "myModel = myModel.to(device)\n",
        "# Check that it is on Cuda\n",
        "next(myModel.parameters()).device\n",
        "\n",
        "\n",
        "# ----------------------------\n",
        "# Training Loop\n",
        "# ----------------------------\n",
        "def training(model, train_dl, num_epochs):\n",
        "  # Loss Function, Optimizer and Scheduler\n",
        "  criterion = nn.CrossEntropyLoss()\n",
        "  optimizer = torch.optim.Adam(model.parameters(),lr=0.001)\n",
        "  scheduler = torch.optim.lr_scheduler.OneCycleLR(optimizer, max_lr=0.001,\n",
        "                                                steps_per_epoch=int(len(train_dl)),\n",
        "                                                epochs=num_epochs,\n",
        "                                                anneal_strategy='linear')\n",
        "\n",
        "  # Repeat for each epoch\n",
        "  for epoch in range(num_epochs):\n",
        "    running_loss = 0.0\n",
        "    correct_prediction = 0\n",
        "    total_prediction = 0\n",
        "\n",
        "    # Repeat for each batch in the training set\n",
        "    for i, data in enumerate(train_dl):\n",
        "        # Get the input features and target labels, and put them on the GPU\n",
        "        inputs, labels = torch.tensor(data[0]).to(device), torch.tensor(data[1]).to(device)\n",
        "       # print(labels.shape)\n",
        "        # Normalize the inputs\n",
        "        inputs_m, inputs_s = inputs.mean(), inputs.std()\n",
        "        inputs = (inputs - inputs_m) / inputs_s\n",
        "\n",
        "        # Zero the parameter gradients\n",
        "        optimizer.zero_grad()\n",
        "\n",
        "        # forward + backward + optimize\n",
        "        outputs = model(inputs.float())\n",
        "      #  print(outputs.shape)\n",
        "        loss = criterion(outputs, labels)\n",
        "        loss.backward()\n",
        "        optimizer.step()\n",
        "        scheduler.step()\n",
        "\n",
        "        # Keep stats for Loss and Accuracy\n",
        "        running_loss += loss.item()\n",
        "\n",
        "        # Get the predicted class with the highest score\n",
        "        _, prediction = torch.max(outputs,1)\n",
        "        # Count of predictions that matched the target label\n",
        "        correct_prediction += (prediction == labels).sum().item()\n",
        "        total_prediction += prediction.shape[0]\n",
        "\n",
        "        #if i % 10 == 0:    # print every 10 mini-batches\n",
        "        #    print('[%d, %5d] loss: %.3f' % (epoch + 1, i + 1, running_loss / 10))\n",
        "    \n",
        "    # Print stats at the end of the epoch\n",
        "    num_batches = len(train_dl)\n",
        "    avg_loss = running_loss / num_batches\n",
        "    acc = correct_prediction/total_prediction\n",
        "    print(f'Epoch: {epoch}, Loss: {avg_loss:.2f}, Accuracy: {acc:.2f}')\n",
        "\n",
        "  print('Finished Training')\n",
        "\n",
        "f = h5py.File('/content/gdrive/MyDrive/train_tensors.h5', 'r')\n",
        "h5pyFile = f['data'][:1000]\n",
        "NUM_EPOCHS = 10\n",
        "#for epoch in range(NUM_EPOCHS):\n",
        "for i in range(1,11):\n",
        "  #print(f\"Train DF: {i}\")\n",
        "  #df = pd.read_csv(f\"/content/gdrive/MyDrive/df_train{i}.csv\")\n",
        "  #mrcg_tensor = torch.load(f\"/content/gdrive/MyDrive/df_train_tensor{i}.pt\")\n",
        "  myds = H5DS(df, mrcg_tensor)\n",
        "\n",
        "  # Random split of 80:20 between training and validation\n",
        "  num_items = len(myds)\n",
        "  num_train = round(num_items*(0.80))\n",
        "  num_val = num_items - num_train\n",
        "  train_ds, val_ds = random_split(myds, [num_train, num_val])\n",
        "\n",
        "  # Create training and validation data loaders\n",
        "  train_dl = torch.utils.data.DataLoader(train_ds, batch_size=5, shuffle=True)\n",
        "  val_dl = torch.utils.data.DataLoader(val_ds, batch_size=5, shuffle=False)\n",
        "    \n",
        "  training(myModel, train_dl, 1)\n",
        "  # Clearing RAM\n",
        "  # del mrcg_tensor\n",
        "  # gc.collect()\n",
        "  # clearing GPU memory\n",
        "  #torch.cuda.empty_cache() \n"
      ]
    },
    {
      "cell_type": "code",
      "execution_count": null,
      "metadata": {
        "id": "MnzlWUhWzW_P"
      },
      "outputs": [],
      "source": [
        "\n",
        "\n",
        "torch.cuda.empty_cache()"
      ]
    },
    {
      "cell_type": "markdown",
      "metadata": {
        "id": "5SmanXRXZ8RN"
      },
      "source": [
        "# Testing"
      ]
    },
    {
      "cell_type": "code",
      "execution_count": null,
      "metadata": {
        "colab": {
          "base_uri": "https://localhost:8080/",
          "height": 345
        },
        "id": "-GTt7l-zZ9ef",
        "outputId": "5c691077-55d6-4021-ec9e-e71b176f552b"
      },
      "outputs": [
        {
          "ename": "KeyboardInterrupt",
          "evalue": "ignored",
          "output_type": "error",
          "traceback": [
            "\u001b[0;31m---------------------------------------------------------------------------\u001b[0m",
            "\u001b[0;31mKeyboardInterrupt\u001b[0m                         Traceback (most recent call last)",
            "\u001b[0;32m<ipython-input-9-6a50540e5dc6>\u001b[0m in \u001b[0;36m<module>\u001b[0;34m()\u001b[0m\n\u001b[1;32m     29\u001b[0m \u001b[0;34m\u001b[0m\u001b[0m\n\u001b[1;32m     30\u001b[0m \u001b[0;31m# Run inference on trained model with the validation set\u001b[0m\u001b[0;34m\u001b[0m\u001b[0;34m\u001b[0m\u001b[0;34m\u001b[0m\u001b[0m\n\u001b[0;32m---> 31\u001b[0;31m \u001b[0minference\u001b[0m\u001b[0;34m(\u001b[0m\u001b[0mmyModel\u001b[0m\u001b[0;34m,\u001b[0m \u001b[0mval_dl\u001b[0m\u001b[0;34m)\u001b[0m\u001b[0;34m\u001b[0m\u001b[0;34m\u001b[0m\u001b[0m\n\u001b[0m",
            "\u001b[0;32m<ipython-input-9-6a50540e5dc6>\u001b[0m in \u001b[0;36minference\u001b[0;34m(model, val_dl)\u001b[0m\n\u001b[1;32m      8\u001b[0m   \u001b[0;31m# Disable gradient updates\u001b[0m\u001b[0;34m\u001b[0m\u001b[0;34m\u001b[0m\u001b[0;34m\u001b[0m\u001b[0m\n\u001b[1;32m      9\u001b[0m   \u001b[0;32mwith\u001b[0m \u001b[0mtorch\u001b[0m\u001b[0;34m.\u001b[0m\u001b[0mno_grad\u001b[0m\u001b[0;34m(\u001b[0m\u001b[0;34m)\u001b[0m\u001b[0;34m:\u001b[0m\u001b[0;34m\u001b[0m\u001b[0;34m\u001b[0m\u001b[0m\n\u001b[0;32m---> 10\u001b[0;31m     \u001b[0;32mfor\u001b[0m \u001b[0mdata\u001b[0m \u001b[0;32min\u001b[0m \u001b[0mval_dl\u001b[0m\u001b[0;34m:\u001b[0m\u001b[0;34m\u001b[0m\u001b[0;34m\u001b[0m\u001b[0m\n\u001b[0m\u001b[1;32m     11\u001b[0m       \u001b[0;31m# Get the input features and target labels, and put them on the GPU\u001b[0m\u001b[0;34m\u001b[0m\u001b[0;34m\u001b[0m\u001b[0;34m\u001b[0m\u001b[0m\n\u001b[1;32m     12\u001b[0m       \u001b[0minputs\u001b[0m\u001b[0;34m,\u001b[0m \u001b[0mlabels\u001b[0m \u001b[0;34m=\u001b[0m \u001b[0mdata\u001b[0m\u001b[0;34m[\u001b[0m\u001b[0;36m0\u001b[0m\u001b[0;34m]\u001b[0m\u001b[0;34m.\u001b[0m\u001b[0mto\u001b[0m\u001b[0;34m(\u001b[0m\u001b[0mdevice\u001b[0m\u001b[0;34m)\u001b[0m\u001b[0;34m,\u001b[0m \u001b[0mdata\u001b[0m\u001b[0;34m[\u001b[0m\u001b[0;36m1\u001b[0m\u001b[0;34m]\u001b[0m\u001b[0;34m.\u001b[0m\u001b[0mto\u001b[0m\u001b[0;34m(\u001b[0m\u001b[0mdevice\u001b[0m\u001b[0;34m)\u001b[0m\u001b[0;34m\u001b[0m\u001b[0;34m\u001b[0m\u001b[0m\n",
            "\u001b[0;32m/usr/local/lib/python3.7/dist-packages/torch/utils/data/dataloader.py\u001b[0m in \u001b[0;36m__next__\u001b[0;34m(self)\u001b[0m\n\u001b[1;32m    528\u001b[0m             \u001b[0;32mif\u001b[0m \u001b[0mself\u001b[0m\u001b[0;34m.\u001b[0m\u001b[0m_sampler_iter\u001b[0m \u001b[0;32mis\u001b[0m \u001b[0;32mNone\u001b[0m\u001b[0;34m:\u001b[0m\u001b[0;34m\u001b[0m\u001b[0;34m\u001b[0m\u001b[0m\n\u001b[1;32m    529\u001b[0m                 \u001b[0mself\u001b[0m\u001b[0;34m.\u001b[0m\u001b[0m_reset\u001b[0m\u001b[0;34m(\u001b[0m\u001b[0;34m)\u001b[0m\u001b[0;34m\u001b[0m\u001b[0;34m\u001b[0m\u001b[0m\n\u001b[0;32m--> 530\u001b[0;31m             \u001b[0mdata\u001b[0m \u001b[0;34m=\u001b[0m \u001b[0mself\u001b[0m\u001b[0;34m.\u001b[0m\u001b[0m_next_data\u001b[0m\u001b[0;34m(\u001b[0m\u001b[0;34m)\u001b[0m\u001b[0;34m\u001b[0m\u001b[0;34m\u001b[0m\u001b[0m\n\u001b[0m\u001b[1;32m    531\u001b[0m             \u001b[0mself\u001b[0m\u001b[0;34m.\u001b[0m\u001b[0m_num_yielded\u001b[0m \u001b[0;34m+=\u001b[0m \u001b[0;36m1\u001b[0m\u001b[0;34m\u001b[0m\u001b[0;34m\u001b[0m\u001b[0m\n\u001b[1;32m    532\u001b[0m             \u001b[0;32mif\u001b[0m \u001b[0mself\u001b[0m\u001b[0;34m.\u001b[0m\u001b[0m_dataset_kind\u001b[0m \u001b[0;34m==\u001b[0m \u001b[0m_DatasetKind\u001b[0m\u001b[0;34m.\u001b[0m\u001b[0mIterable\u001b[0m \u001b[0;32mand\u001b[0m\u001b[0;31m \u001b[0m\u001b[0;31m\\\u001b[0m\u001b[0;34m\u001b[0m\u001b[0;34m\u001b[0m\u001b[0m\n",
            "\u001b[0;32m/usr/local/lib/python3.7/dist-packages/torch/utils/data/dataloader.py\u001b[0m in \u001b[0;36m_next_data\u001b[0;34m(self)\u001b[0m\n\u001b[1;32m    568\u001b[0m     \u001b[0;32mdef\u001b[0m \u001b[0m_next_data\u001b[0m\u001b[0;34m(\u001b[0m\u001b[0mself\u001b[0m\u001b[0;34m)\u001b[0m\u001b[0;34m:\u001b[0m\u001b[0;34m\u001b[0m\u001b[0;34m\u001b[0m\u001b[0m\n\u001b[1;32m    569\u001b[0m         \u001b[0mindex\u001b[0m \u001b[0;34m=\u001b[0m \u001b[0mself\u001b[0m\u001b[0;34m.\u001b[0m\u001b[0m_next_index\u001b[0m\u001b[0;34m(\u001b[0m\u001b[0;34m)\u001b[0m  \u001b[0;31m# may raise StopIteration\u001b[0m\u001b[0;34m\u001b[0m\u001b[0;34m\u001b[0m\u001b[0m\n\u001b[0;32m--> 570\u001b[0;31m         \u001b[0mdata\u001b[0m \u001b[0;34m=\u001b[0m \u001b[0mself\u001b[0m\u001b[0;34m.\u001b[0m\u001b[0m_dataset_fetcher\u001b[0m\u001b[0;34m.\u001b[0m\u001b[0mfetch\u001b[0m\u001b[0;34m(\u001b[0m\u001b[0mindex\u001b[0m\u001b[0;34m)\u001b[0m  \u001b[0;31m# may raise StopIteration\u001b[0m\u001b[0;34m\u001b[0m\u001b[0;34m\u001b[0m\u001b[0m\n\u001b[0m\u001b[1;32m    571\u001b[0m         \u001b[0;32mif\u001b[0m \u001b[0mself\u001b[0m\u001b[0;34m.\u001b[0m\u001b[0m_pin_memory\u001b[0m\u001b[0;34m:\u001b[0m\u001b[0;34m\u001b[0m\u001b[0;34m\u001b[0m\u001b[0m\n\u001b[1;32m    572\u001b[0m             \u001b[0mdata\u001b[0m \u001b[0;34m=\u001b[0m \u001b[0m_utils\u001b[0m\u001b[0;34m.\u001b[0m\u001b[0mpin_memory\u001b[0m\u001b[0;34m.\u001b[0m\u001b[0mpin_memory\u001b[0m\u001b[0;34m(\u001b[0m\u001b[0mdata\u001b[0m\u001b[0;34m)\u001b[0m\u001b[0;34m\u001b[0m\u001b[0;34m\u001b[0m\u001b[0m\n",
            "\u001b[0;32m/usr/local/lib/python3.7/dist-packages/torch/utils/data/_utils/fetch.py\u001b[0m in \u001b[0;36mfetch\u001b[0;34m(self, possibly_batched_index)\u001b[0m\n\u001b[1;32m     47\u001b[0m     \u001b[0;32mdef\u001b[0m \u001b[0mfetch\u001b[0m\u001b[0;34m(\u001b[0m\u001b[0mself\u001b[0m\u001b[0;34m,\u001b[0m \u001b[0mpossibly_batched_index\u001b[0m\u001b[0;34m)\u001b[0m\u001b[0;34m:\u001b[0m\u001b[0;34m\u001b[0m\u001b[0;34m\u001b[0m\u001b[0m\n\u001b[1;32m     48\u001b[0m         \u001b[0;32mif\u001b[0m \u001b[0mself\u001b[0m\u001b[0;34m.\u001b[0m\u001b[0mauto_collation\u001b[0m\u001b[0;34m:\u001b[0m\u001b[0;34m\u001b[0m\u001b[0;34m\u001b[0m\u001b[0m\n\u001b[0;32m---> 49\u001b[0;31m             \u001b[0mdata\u001b[0m \u001b[0;34m=\u001b[0m \u001b[0;34m[\u001b[0m\u001b[0mself\u001b[0m\u001b[0;34m.\u001b[0m\u001b[0mdataset\u001b[0m\u001b[0;34m[\u001b[0m\u001b[0midx\u001b[0m\u001b[0;34m]\u001b[0m \u001b[0;32mfor\u001b[0m \u001b[0midx\u001b[0m \u001b[0;32min\u001b[0m \u001b[0mpossibly_batched_index\u001b[0m\u001b[0;34m]\u001b[0m\u001b[0;34m\u001b[0m\u001b[0;34m\u001b[0m\u001b[0m\n\u001b[0m\u001b[1;32m     50\u001b[0m         \u001b[0;32melse\u001b[0m\u001b[0;34m:\u001b[0m\u001b[0;34m\u001b[0m\u001b[0;34m\u001b[0m\u001b[0m\n\u001b[1;32m     51\u001b[0m             \u001b[0mdata\u001b[0m \u001b[0;34m=\u001b[0m \u001b[0mself\u001b[0m\u001b[0;34m.\u001b[0m\u001b[0mdataset\u001b[0m\u001b[0;34m[\u001b[0m\u001b[0mpossibly_batched_index\u001b[0m\u001b[0;34m]\u001b[0m\u001b[0;34m\u001b[0m\u001b[0;34m\u001b[0m\u001b[0m\n",
            "\u001b[0;32m/usr/local/lib/python3.7/dist-packages/torch/utils/data/_utils/fetch.py\u001b[0m in \u001b[0;36m<listcomp>\u001b[0;34m(.0)\u001b[0m\n\u001b[1;32m     47\u001b[0m     \u001b[0;32mdef\u001b[0m \u001b[0mfetch\u001b[0m\u001b[0;34m(\u001b[0m\u001b[0mself\u001b[0m\u001b[0;34m,\u001b[0m \u001b[0mpossibly_batched_index\u001b[0m\u001b[0;34m)\u001b[0m\u001b[0;34m:\u001b[0m\u001b[0;34m\u001b[0m\u001b[0;34m\u001b[0m\u001b[0m\n\u001b[1;32m     48\u001b[0m         \u001b[0;32mif\u001b[0m \u001b[0mself\u001b[0m\u001b[0;34m.\u001b[0m\u001b[0mauto_collation\u001b[0m\u001b[0;34m:\u001b[0m\u001b[0;34m\u001b[0m\u001b[0;34m\u001b[0m\u001b[0m\n\u001b[0;32m---> 49\u001b[0;31m             \u001b[0mdata\u001b[0m \u001b[0;34m=\u001b[0m \u001b[0;34m[\u001b[0m\u001b[0mself\u001b[0m\u001b[0;34m.\u001b[0m\u001b[0mdataset\u001b[0m\u001b[0;34m[\u001b[0m\u001b[0midx\u001b[0m\u001b[0;34m]\u001b[0m \u001b[0;32mfor\u001b[0m \u001b[0midx\u001b[0m \u001b[0;32min\u001b[0m \u001b[0mpossibly_batched_index\u001b[0m\u001b[0;34m]\u001b[0m\u001b[0;34m\u001b[0m\u001b[0;34m\u001b[0m\u001b[0m\n\u001b[0m\u001b[1;32m     50\u001b[0m         \u001b[0;32melse\u001b[0m\u001b[0;34m:\u001b[0m\u001b[0;34m\u001b[0m\u001b[0;34m\u001b[0m\u001b[0m\n\u001b[1;32m     51\u001b[0m             \u001b[0mdata\u001b[0m \u001b[0;34m=\u001b[0m \u001b[0mself\u001b[0m\u001b[0;34m.\u001b[0m\u001b[0mdataset\u001b[0m\u001b[0;34m[\u001b[0m\u001b[0mpossibly_batched_index\u001b[0m\u001b[0;34m]\u001b[0m\u001b[0;34m\u001b[0m\u001b[0;34m\u001b[0m\u001b[0m\n",
            "\u001b[0;32m/usr/local/lib/python3.7/dist-packages/torch/utils/data/dataset.py\u001b[0m in \u001b[0;36m__getitem__\u001b[0;34m(self, idx)\u001b[0m\n\u001b[1;32m    469\u001b[0m         \u001b[0;32mif\u001b[0m \u001b[0misinstance\u001b[0m\u001b[0;34m(\u001b[0m\u001b[0midx\u001b[0m\u001b[0;34m,\u001b[0m \u001b[0mlist\u001b[0m\u001b[0;34m)\u001b[0m\u001b[0;34m:\u001b[0m\u001b[0;34m\u001b[0m\u001b[0;34m\u001b[0m\u001b[0m\n\u001b[1;32m    470\u001b[0m             \u001b[0;32mreturn\u001b[0m \u001b[0mself\u001b[0m\u001b[0;34m.\u001b[0m\u001b[0mdataset\u001b[0m\u001b[0;34m[\u001b[0m\u001b[0;34m[\u001b[0m\u001b[0mself\u001b[0m\u001b[0;34m.\u001b[0m\u001b[0mindices\u001b[0m\u001b[0;34m[\u001b[0m\u001b[0mi\u001b[0m\u001b[0;34m]\u001b[0m \u001b[0;32mfor\u001b[0m \u001b[0mi\u001b[0m \u001b[0;32min\u001b[0m \u001b[0midx\u001b[0m\u001b[0;34m]\u001b[0m\u001b[0;34m]\u001b[0m\u001b[0;34m\u001b[0m\u001b[0;34m\u001b[0m\u001b[0m\n\u001b[0;32m--> 471\u001b[0;31m         \u001b[0;32mreturn\u001b[0m \u001b[0mself\u001b[0m\u001b[0;34m.\u001b[0m\u001b[0mdataset\u001b[0m\u001b[0;34m[\u001b[0m\u001b[0mself\u001b[0m\u001b[0;34m.\u001b[0m\u001b[0mindices\u001b[0m\u001b[0;34m[\u001b[0m\u001b[0midx\u001b[0m\u001b[0;34m]\u001b[0m\u001b[0;34m]\u001b[0m\u001b[0;34m\u001b[0m\u001b[0;34m\u001b[0m\u001b[0m\n\u001b[0m\u001b[1;32m    472\u001b[0m \u001b[0;34m\u001b[0m\u001b[0m\n\u001b[1;32m    473\u001b[0m     \u001b[0;32mdef\u001b[0m \u001b[0m__len__\u001b[0m\u001b[0;34m(\u001b[0m\u001b[0mself\u001b[0m\u001b[0;34m)\u001b[0m\u001b[0;34m:\u001b[0m\u001b[0;34m\u001b[0m\u001b[0;34m\u001b[0m\u001b[0m\n",
            "\u001b[0;32m<ipython-input-5-1b1d11293fc5>\u001b[0m in \u001b[0;36m__getitem__\u001b[0;34m(self, idx)\u001b[0m\n\u001b[1;32m     31\u001b[0m     \u001b[0mclass_id\u001b[0m \u001b[0;34m=\u001b[0m \u001b[0mself\u001b[0m\u001b[0;34m.\u001b[0m\u001b[0mdf\u001b[0m\u001b[0;34m.\u001b[0m\u001b[0mloc\u001b[0m\u001b[0;34m[\u001b[0m\u001b[0midx\u001b[0m\u001b[0;34m,\u001b[0m \u001b[0;34m'primary_label'\u001b[0m\u001b[0;34m]\u001b[0m\u001b[0;34m\u001b[0m\u001b[0;34m\u001b[0m\u001b[0m\n\u001b[1;32m     32\u001b[0m \u001b[0;34m\u001b[0m\u001b[0m\n\u001b[0;32m---> 33\u001b[0;31m     \u001b[0maud\u001b[0m \u001b[0;34m=\u001b[0m \u001b[0mAudioUtil\u001b[0m\u001b[0;34m.\u001b[0m\u001b[0mopen\u001b[0m\u001b[0;34m(\u001b[0m\u001b[0maudio_file\u001b[0m\u001b[0;34m)\u001b[0m\u001b[0;34m\u001b[0m\u001b[0;34m\u001b[0m\u001b[0m\n\u001b[0m\u001b[1;32m     34\u001b[0m     \u001b[0;31m# Some sounds have a higher sample rate, or fewer channels compared to the\u001b[0m\u001b[0;34m\u001b[0m\u001b[0;34m\u001b[0m\u001b[0;34m\u001b[0m\u001b[0m\n\u001b[1;32m     35\u001b[0m     \u001b[0;31m# majority. So make all sounds have the same number of channels and same\u001b[0m\u001b[0;34m\u001b[0m\u001b[0;34m\u001b[0m\u001b[0;34m\u001b[0m\u001b[0m\n",
            "\u001b[0;32m<ipython-input-4-f5e9388a3549>\u001b[0m in \u001b[0;36mopen\u001b[0;34m(audio_file)\u001b[0m\n\u001b[1;32m     18\u001b[0m     \u001b[0mThe\u001b[0m \u001b[0mstandard\u001b[0m \u001b[0msample\u001b[0m \u001b[0mrate\u001b[0m \u001b[0mused\u001b[0m \u001b[0;32mfor\u001b[0m \u001b[0maudio\u001b[0m \u001b[0mCDs\u001b[0m \u001b[0;32mis\u001b[0m \u001b[0;36m44.1\u001b[0m \u001b[0mkilohertz\u001b[0m \u001b[0;34m(\u001b[0m\u001b[0;36m44\u001b[0m\u001b[0;34m,\u001b[0m\u001b[0;36m100\u001b[0m \u001b[0mhertz\u001b[0m\u001b[0;34m)\u001b[0m\u001b[0;34m.\u001b[0m \u001b[0mThat\u001b[0m \u001b[0mmeans\u001b[0m \u001b[0meach\u001b[0m \u001b[0msecond\u001b[0m \u001b[0mof\u001b[0m \u001b[0ma\u001b[0m \u001b[0msong\u001b[0m \u001b[0mon\u001b[0m \u001b[0ma\u001b[0m \u001b[0mCD\u001b[0m \u001b[0mcontains\u001b[0m \u001b[0;36m44\u001b[0m\u001b[0;34m,\u001b[0m\u001b[0;36m100\u001b[0m \u001b[0mindividual\u001b[0m \u001b[0msamples\u001b[0m\u001b[0;34m.\u001b[0m\u001b[0;34m\u001b[0m\u001b[0;34m\u001b[0m\u001b[0m\n\u001b[1;32m     19\u001b[0m     \"\"\"\n\u001b[0;32m---> 20\u001b[0;31m     \u001b[0mwaveform\u001b[0m\u001b[0;34m,\u001b[0m \u001b[0msamplerate\u001b[0m \u001b[0;34m=\u001b[0m \u001b[0mtorchaudio\u001b[0m\u001b[0;34m.\u001b[0m\u001b[0mload\u001b[0m\u001b[0;34m(\u001b[0m\u001b[0maudio_file\u001b[0m\u001b[0;34m)\u001b[0m \u001b[0;31m# https://pytorch.org/tutorials/beginner/audio_preprocessing_tutorial.html#loading-audio-data-into-tensor\u001b[0m\u001b[0;34m\u001b[0m\u001b[0;34m\u001b[0m\u001b[0m\n\u001b[0m\u001b[1;32m     21\u001b[0m     \u001b[0;32mreturn\u001b[0m \u001b[0;34m(\u001b[0m\u001b[0mwaveform\u001b[0m\u001b[0;34m,\u001b[0m \u001b[0msamplerate\u001b[0m\u001b[0;34m)\u001b[0m \u001b[0;31m# waveform is the PCM data.\u001b[0m\u001b[0;34m\u001b[0m\u001b[0;34m\u001b[0m\u001b[0m\n\u001b[1;32m     22\u001b[0m \u001b[0;34m\u001b[0m\u001b[0m\n",
            "\u001b[0;32m/usr/local/lib/python3.7/dist-packages/torchaudio/backend/sox_io_backend.py\u001b[0m in \u001b[0;36mload\u001b[0;34m(filepath, frame_offset, num_frames, normalize, channels_first, format)\u001b[0m\n\u001b[1;32m    152\u001b[0m         \u001b[0mfilepath\u001b[0m \u001b[0;34m=\u001b[0m \u001b[0mos\u001b[0m\u001b[0;34m.\u001b[0m\u001b[0mfspath\u001b[0m\u001b[0;34m(\u001b[0m\u001b[0mfilepath\u001b[0m\u001b[0;34m)\u001b[0m\u001b[0;34m\u001b[0m\u001b[0;34m\u001b[0m\u001b[0m\n\u001b[1;32m    153\u001b[0m     return torch.ops.torchaudio.sox_io_load_audio_file(\n\u001b[0;32m--> 154\u001b[0;31m         \u001b[0mfilepath\u001b[0m\u001b[0;34m,\u001b[0m \u001b[0mframe_offset\u001b[0m\u001b[0;34m,\u001b[0m \u001b[0mnum_frames\u001b[0m\u001b[0;34m,\u001b[0m \u001b[0mnormalize\u001b[0m\u001b[0;34m,\u001b[0m \u001b[0mchannels_first\u001b[0m\u001b[0;34m,\u001b[0m \u001b[0mformat\u001b[0m\u001b[0;34m\u001b[0m\u001b[0;34m\u001b[0m\u001b[0m\n\u001b[0m\u001b[1;32m    155\u001b[0m     )\n\u001b[1;32m    156\u001b[0m \u001b[0;34m\u001b[0m\u001b[0m\n",
            "\u001b[0;31mKeyboardInterrupt\u001b[0m: "
          ]
        }
      ],
      "source": [
        "# ----------------------------\n",
        "# Inference\n",
        "# ----------------------------\n",
        "def inference (model, val_dl):\n",
        "  correct_prediction = 0\n",
        "  total_prediction = 0\n",
        "\n",
        "  # Disable gradient updates\n",
        "  with torch.no_grad():\n",
        "    for data in val_dl:\n",
        "      # Get the input features and target labels, and put them on the GPU\n",
        "      inputs, labels = data[0].to(device), data[1].to(device)\n",
        "\n",
        "      # Normalize the inputs\n",
        "      inputs_m, inputs_s = inputs.mean(), inputs.std()\n",
        "      inputs = (inputs - inputs_m) / inputs_s\n",
        "\n",
        "      # Get predictions\n",
        "      outputs = model(inputs)\n",
        "\n",
        "      # Get the predicted class with the highest score\n",
        "      _, prediction = torch.max(outputs,1)\n",
        "      # Count of predictions that matched the target label\n",
        "      correct_prediction += (prediction == labels).sum().item()\n",
        "      total_prediction += prediction.shape[0]\n",
        "    \n",
        "  acc = correct_prediction/total_prediction\n",
        "  print(f'Accuracy: {acc:.2f}, Total items: {total_prediction}')\n",
        "\n",
        "# Run inference on trained model with the validation set\n",
        "inference(myModel, val_dl)"
      ]
    }
  ],
  "metadata": {
    "colab": {
      "collapsed_sections": [],
      "machine_shape": "hm",
      "name": "BirdSongIdentification.ipynb",
      "provenance": [],
      "mount_file_id": "1041MvhLg0VHUfYywBA-WpT6MxfrgZ4kk",
      "authorship_tag": "ABX9TyPmsKADoZtUHi5R0xv38fEm",
      "include_colab_link": true
    },
    "gpuClass": "standard",
    "kernelspec": {
      "display_name": "Python 3",
      "name": "python3"
    },
    "language_info": {
      "name": "python"
    },
    "accelerator": "GPU"
  },
  "nbformat": 4,
  "nbformat_minor": 0
}