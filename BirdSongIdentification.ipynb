{
  "cells": [
    {
      "cell_type": "markdown",
      "metadata": {
        "id": "view-in-github",
        "colab_type": "text"
      },
      "source": [
        "<a href=\"https://colab.research.google.com/github/yakovsushenok/Thesis/blob/main/BirdSongIdentification.ipynb\" target=\"_parent\"><img src=\"https://colab.research.google.com/assets/colab-badge.svg\" alt=\"Open In Colab\"/></a>"
      ]
    },
    {
      "cell_type": "code",
      "execution_count": 12,
      "metadata": {
        "colab": {
          "base_uri": "https://localhost:8080/"
        },
        "id": "qwAodtP0mIFZ",
        "outputId": "9b3c2ef5-468c-4f19-d1e3-9d61176b12b1"
      },
      "outputs": [
        {
          "output_type": "stream",
          "name": "stdout",
          "text": [
            "Mounted at /content/gdrive\n"
          ]
        }
      ],
      "source": [
        "import zipfile\n",
        "import os\n",
        "import pandas as pd\n",
        "import math, random\n",
        "import torch\n",
        "import torchaudio\n",
        "from torchaudio import transforms\n",
        "from torch.utils.data import DataLoader, Dataset, random_split\n",
        "import torch.nn.functional as F\n",
        "import torch.nn as nn\n",
        "from torch.nn import init\n",
        "from google.colab import drive\n",
        "from sklearn.model_selection import StratifiedShuffleSplit\n",
        "drive.mount('/content/gdrive')\n",
        "import time\n",
        "import matplotlib.pyplot as plt\n",
        "import numpy as np\n",
        "import numpy.matlib\n",
        "try:\n",
        "    from scipy.fftpack import fft, ifft\n",
        "except ImportError:\n",
        "    from numpy.fft import fft, ifft\n",
        "from scipy.signal import lfilter\n",
        "import scipy.io as sio\n",
        "from scipy import signal\n",
        "import gc\n",
        "import h5py\n",
        "random.seed(0)\n",
        "np.random.seed(0)"
      ]
    },
    {
      "cell_type": "markdown",
      "metadata": {
        "id": "ibpWhcb2BuOF"
      },
      "source": [
        "# Data"
      ]
    },
    {
      "cell_type": "code",
      "execution_count": 2,
      "metadata": {
        "id": "yyqhHqKadWAN"
      },
      "outputs": [],
      "source": [
        "# extracting the training data (audio files) from the zip file (12 minutes)\n",
        "zip_ref = zipfile.ZipFile('/content/gdrive/MyDrive/train_short_audio.zip', 'r')\n",
        "zip_ref.extractall('/content/tmp') \n",
        "zip_ref.close()"
      ]
    },
    {
      "cell_type": "code",
      "execution_count": 36,
      "metadata": {
        "id": "h4DrXTGvfmQe"
      },
      "outputs": [],
      "source": [
        "# extracting the data which has audio files that are of similar length to the testing data\n",
        "zip_ref = zipfile.ZipFile('/content/gdrive/MyDrive/train_soundscapes.zip', 'r')\n",
        "zip_ref.extractall('/content/trainSoundscapes') \n",
        "zip_ref.close()\n",
        "\n",
        "df = pd.read_csv(\"/content/gdrive/MyDrive/train_metadata.csv\") # the metadata\n",
        "\n",
        "# The dataset below is the subsetted dataset with labels that have 500 occurrences\n",
        "#df = pd.read_csv(\"/content/gdrive/MyDrive/train_metadata_more_than_500.csv\")\n",
        "df['relative_path'] = '/content/tmp/' + df['primary_label'] + '/' + df['filename'] "
      ]
    },
    {
      "cell_type": "markdown",
      "metadata": {
        "id": "NsG9J8nCm-Ss"
      },
      "source": [
        "### Subsetting the data so that we're left with subspecies which have 300+ samples and with audio rated 4.0+"
      ]
    },
    {
      "cell_type": "code",
      "execution_count": 37,
      "metadata": {
        "id": "gACq0PqQtFDs"
      },
      "outputs": [],
      "source": [
        "df = df[(df['primary_label'].value_counts().reindex(df['primary_label'])>299).values & (df['rating'] > 3.5)]\n",
        "df = df[['relative_path', 'primary_label']]\n",
        "unique_labels = df.primary_label.unique()\n",
        "mapping = dict(zip(unique_labels, range(len(unique_labels))))\n",
        "df.primary_label = df.primary_label.map(mapping)"
      ]
    },
    {
      "cell_type": "markdown",
      "metadata": {
        "id": "8S2CQaDLbCL9"
      },
      "source": [
        "### We're going to partition our data into a training/validation/testing test with 80% being the training, 10% for validating and 10% for testing with each species category having the same distribution."
      ]
    },
    {
      "cell_type": "code",
      "execution_count": 39,
      "metadata": {
        "id": "v0ClluLca1oX"
      },
      "outputs": [],
      "source": [
        "# splitting into train, val+test\n",
        "X, y = df['relative_path'], df['primary_label']\n",
        "split1 = StratifiedShuffleSplit(n_splits=2, test_size=0.2, random_state=0)\n",
        "train_index, val_test = next(split1.split(X, y))\n",
        "# splitting into val, test\n",
        "X1, y1 = df.iloc[val_test, 0], df.iloc[val_test, 1]\n",
        "split2 = StratifiedShuffleSplit(n_splits=2, test_size=0.5, random_state=0)\n",
        "val_index, test_index = next(split2.split(X1, y1))\n",
        "# subsetting the datasets\n",
        "df_train = df.iloc[train_index,:]\n",
        "df_val = df.iloc[val_index, :]\n",
        "df_test = df.iloc[test_index, :]"
      ]
    },
    {
      "cell_type": "markdown",
      "metadata": {
        "id": "CW-iaKXPK_8l"
      },
      "source": [
        "# Utility classes"
      ]
    },
    {
      "cell_type": "code",
      "execution_count": 5,
      "metadata": {
        "id": "fI9doie9yewR"
      },
      "outputs": [],
      "source": [
        "### MRCG CODE\n",
        "epsc = 0.000001\n",
        "\n",
        "def mrcg_extract(sig, sampFreq = 32000): # Sample frequency is always 32,000 in our case\n",
        "    # Code From: https://github.com/MoongMoong/MRCG_python/blob/master/MRCG_python_master/mrcg/MRCG.py\n",
        "    \n",
        "    beta = 1000 / np.sqrt(sum(map(lambda x:x*x,sig)) / len(sig))\n",
        "    sig = sig*beta\n",
        "    sig = sig.reshape(len(sig), 1)\n",
        "    g = gammatone(sig, 64, sampFreq)\n",
        "    cochlea1 = np.log10(cochleagram(g, int(sampFreq * 0.025), int(sampFreq * 0.010)) + 0.0000005)\n",
        "    cochlea2 = np.log10(cochleagram(g, int(sampFreq * 0.200), int(sampFreq * 0.010)) + 0.0000005) # 768, x \n",
        "    cochlea1 = cochlea1[:,:]\n",
        "    cochlea2 = cochlea2[:,:]\n",
        "    cochlea3 = get_avg(cochlea1, 5, 5)\n",
        "    cochlea4 = get_avg(cochlea1, 11, 11)\n",
        "    \n",
        "    all_cochleas = np.concatenate([cochlea1,cochlea2,cochlea3,cochlea4],0)\n",
        "    del0 = deltas(all_cochleas)\n",
        "    ddel = deltas(deltas(all_cochleas, 5), 5)\n",
        "\n",
        "    ouotput = np.concatenate((all_cochleas, del0, ddel), 0)\n",
        "\n",
        "    return ouotput\n",
        "\n",
        "def gammatone(insig, numChan=128, fs = 16000): # \n",
        "    fRange = [1000, 20000] # try from 1000 to 20000 (was [50, 8000])\n",
        "    filterOrder = 4\n",
        "    gL = 2048\n",
        "    sigLength = len(insig)\n",
        "    phase = np.zeros([numChan, 1])\n",
        "    erb_b = hz2erb(fRange)\n",
        "\n",
        "    \n",
        "    erb_b_diff = (erb_b[1]-erb_b[0])/(numChan-1)\n",
        "    erb = np.arange(erb_b[0], erb_b[1]+epsc, erb_b_diff)\n",
        "    cf = erb2hz(erb)\n",
        "    b = [1.019 * 24.7 * (4.37 * x / 1000 + 1) for x in cf]\n",
        "    gt = np.zeros([numChan, gL])\n",
        "    tmp_t = np.arange(1,gL+1)/fs\n",
        "    for i in range(numChan):\n",
        "        gain = 10**((loudness(cf[i])-60)/20)/3*(2 * np.pi * b[i] / fs)**4\n",
        "        tmp_temp = [gain*(fs**3)*x**(filterOrder - 1)*np.exp(-2 * np.pi * b[i] * x)*np.cos(2 * np.pi * cf[i] * x + phase[i]) for x in tmp_t]\n",
        "        tmp_temp2 = np.reshape(tmp_temp, [1, gL])\n",
        "\n",
        "        gt[i, :] = tmp_temp2\n",
        "\n",
        "    sig = np.reshape(insig,[sigLength,1])\n",
        "    gt2 = np.transpose(gt)\n",
        "    resig = np.matlib.repmat(sig,1,numChan)\n",
        "    r = np.transpose(fftfilt(gt2,resig,numChan))\n",
        "    return r\n",
        "\n",
        "def hz2erb(hz):  \n",
        "    erb1 = 0.00437\n",
        "    erb2 = np.multiply(erb1,hz)\n",
        "    erb3 = np.subtract(erb2,-1)\n",
        "    erb4 = np.log10(erb3)\n",
        "    erb = 21.4 *erb4\n",
        "    return erb\n",
        "\n",
        "def erb2hz(erb): \n",
        "    hz = [(10**(x/21.4)-1)/(0.00437) for x in erb]\n",
        "    return hz\n",
        "\n",
        "def loudness(freq): \n",
        "    dB=60\n",
        "    fmat = sio.loadmat('/content/gdrive/MyDrive/f_af_bf_cf.mat')\n",
        "    af = fmat['af'][0]\n",
        "    bf = fmat['bf'][0]\n",
        "    cf = fmat['cf'][0]\n",
        "    ff = fmat['ff'][0]\n",
        "    i = 0\n",
        "    while ff[i] < freq and i < len(ff) - 1: # my code:  i < len(ff)\n",
        "        i = i + 1\n",
        "\n",
        "    afy = af[i - 1] + (freq - ff[i - 1]) * (af[i] - af[i - 1]) / (ff[i] - ff[i - 1])\n",
        "    bfy = bf[i - 1] + (freq - ff[i - 1]) * (bf[i] - bf[i - 1]) / (ff[i] - ff[i - 1])\n",
        "    cfy = cf[i - 1] + (freq - ff[i - 1]) * (cf[i] - cf[i - 1]) / (ff[i] - ff[i - 1])\n",
        "    loud = 4.2 + afy * (dB - cfy) / (1 + bfy * (dB - cfy))\n",
        "    return loud\n",
        "\n",
        "def fftfilt(b,x,nfft): \n",
        "    fftflops = [18, 59, 138, 303, 660, 1441, 3150, 6875, 14952, 32373, 69762,\n",
        "                149647, 319644, 680105, 1441974, 3047619, 6422736, 13500637, 28311786,\n",
        "                59244791, 59244791*2.09]\n",
        "    nb, _ = np.shape(b)\n",
        "    nx, mx = np.shape(x)\n",
        "    n_min = 0\n",
        "    while 2**n_min < nb-1:\n",
        "        n_min = n_min+1\n",
        "    n_temp = np.arange(n_min, 21 + epsc, 1)\n",
        "    n = np.power(2,n_temp)\n",
        "    fftflops = fftflops[n_min-1:21]\n",
        "    L = np.subtract(n,nb-1)\n",
        "    lenL= np.size(L)\n",
        "    temp_ind0 = np.ceil(np.divide(nx,L))\n",
        "    temp_ind = np.multiply(temp_ind0,fftflops)\n",
        "    temp_ind = np.array(temp_ind)\n",
        "    ind = np.argmin(temp_ind)\n",
        "    nfft=int(n[ind])\n",
        "    L=int(L[ind])\n",
        "    b_tr = np.transpose(b)\n",
        "    B_tr = fft(b_tr,nfft)\n",
        "    B = np.transpose(B_tr)\n",
        "    y = np.zeros([nx, mx])\n",
        "    istart = 0\n",
        "    while istart < nx :\n",
        "        iend = min(istart+L,nx)\n",
        "        if (iend - istart) == 1 :\n",
        "            X = x[0][0]*np.ones([nx,mx])\n",
        "        else :\n",
        "            xtr = np.transpose(x[istart:iend][:])\n",
        "            Xtr = fft(xtr,nfft)\n",
        "            X = np.transpose(Xtr)\n",
        "        temp_Y = np.transpose(np.multiply(B,X))\n",
        "        Ytr = ifft(temp_Y,nfft)\n",
        "        Y = np.transpose(Ytr)\n",
        "        yend = np.min([nx, istart + nfft])\n",
        "        y[istart:yend][:] = y[istart:yend][:] + np.real(Y[0:yend-istart][:])\n",
        "\n",
        "        istart = istart + L\n",
        "    \n",
        "    return y\n",
        "\n",
        "def cochleagram(r, winLength = 320, winShift=160): \n",
        "    numChan, sigLength = np.shape(r)\n",
        "    increment = winLength / winShift\n",
        "    M = np.floor(sigLength / winShift)\n",
        "    a = np.zeros([numChan, int(M)])\n",
        "    rs = np.square(r)\n",
        "    rsl = np.concatenate((np.zeros([numChan,winLength-winShift]),rs),1)\n",
        "    for m in range(int(M)):\n",
        "        temp = rsl[:,m*winShift : m*winShift+winLength]\n",
        "        a[:, m] = np.sum(temp,1)\n",
        "\n",
        "    return a\n",
        "\n",
        "def get_avg( m , v_span, h_span): \n",
        "    nr,nc = np.shape(m)\n",
        "\n",
        "    fil_size = (2 * v_span + 1) * (2 * h_span + 1)\n",
        "    meanfil = np.ones([1+2*h_span,1+2*h_span])\n",
        "    meanfil = np.divide(meanfil,fil_size)\n",
        "\n",
        "    out = signal.convolve2d(m, meanfil, boundary='fill', fillvalue=0, mode='same')\n",
        "    return out\n",
        "\n",
        "def deltas(x, w=9) : \n",
        "    nr,nc = np.shape(x)\n",
        "    if nc ==0 :\n",
        "        d= x\n",
        "    else :\n",
        "        hlen = int(np.floor(w / 2))\n",
        "        w = 2 * hlen + 1\n",
        "        win=np.arange(hlen, int(-(hlen+1)), -1)\n",
        "        temp = x[:, 0]\n",
        "        fx = np.matlib.repmat(temp.reshape([-1,1]), 1, int(hlen))\n",
        "        temp = x[:, nc-1]\n",
        "        ex = np.matlib.repmat(temp.reshape([-1,1]), 1, int(hlen))\n",
        "        xx = np.concatenate((fx, x, ex),1)\n",
        "        d = lfilter(win, 1, xx, 1)\n",
        "        d = d[:,2*hlen:nc+2*hlen]\n",
        "\n",
        "    return d"
      ]
    },
    {
      "cell_type": "markdown",
      "metadata": {
        "id": "lzyh9vU40ePE"
      },
      "source": [
        "Now that I have the MRCG code, I want to create a dataset which will hold these MRCG values. This will mean I'll not have to pre-process them every run of the model."
      ]
    },
    {
      "cell_type": "code",
      "execution_count": 6,
      "metadata": {
        "id": "K8tsXpO1Mu5m"
      },
      "outputs": [],
      "source": [
        "def get_mrcg_from_file(file):\n",
        "  \n",
        "  mid = 650000 # zero padding so that mrcgs are 20 seconds max\n",
        "  waveform, sr = torchaudio.load(file)\n",
        "  if len(waveform[0]) < mid:\n",
        "    target = torch.zeros(mid)\n",
        "    source = waveform[0]\n",
        "    target[:len(source)] = source\n",
        "    return mrcg_extract(target)\n",
        "  else:\n",
        "    waveform = waveform[0]\n",
        "    return mrcg_extract(waveform[:mid])"
      ]
    },
    {
      "cell_type": "code",
      "execution_count": null,
      "metadata": {
        "id": "B43wJ2M52NpF"
      },
      "outputs": [],
      "source": [
        "df_list = [i for i in range(0,8600, 100)]\n",
        "df_list[-1] = len(df_train)\n",
        "\n",
        "for i in range(67,len(df_list)-1):    # [2706, 0950, stopped at 22] <-- missed 22 (i=21+1)... need to do it.\n",
        "                                   # [2806, 2906, stopped at i=43+1]\n",
        "                                   # for some reason, indices i=14-19 are not being processed (for the tensors)\n",
        "  \n",
        "  \n",
        "  \n",
        "  \n",
        "                                   # until 2906, 1920 I have been creating df_train_tensor's with the index i in the get_mrcg_from_file(df['relative_path'].iloc[j]) thing. Wasted 2-3 days on this. \n",
        "                                   # On 2906 I'm creating a dataset with fRange = [1000, 20000] as per my supervisors' \n",
        "  \n",
        "  print(f\"currently on df {i+1}\")\n",
        "  df = df_train[df_list[i]:df_list[i+1]]\n",
        "  #df['mrcg'] = df['relative_path'].apply(get_mrcg_from_file)\n",
        "  df.to_csv(f'/content/gdrive/MyDrive/df_train{i+1}.csv') \n",
        "  x = torch.tensor(get_mrcg_from_file(df['relative_path'].iloc[0]))     \n",
        "  \n",
        "  x = x[None, : , :]\n",
        "  for j in range(1,len(df)):\n",
        "    x1 = torch.tensor(get_mrcg_from_file(df['relative_path'].iloc[j])) # 12 sec per sample for mrcg\n",
        "    x1 = x1[None, :, :]\n",
        "    x = torch.cat((x,x1), 0)\n",
        "  print(f\"saving tensor {i+1}\")\n",
        "  torch.save(x, f'/content/gdrive/MyDrive/df_train_tensor{i+1}.pt')"
      ]
    },
    {
      "cell_type": "markdown",
      "source": [
        "# Creating a hp5y dataset and dataloader\n",
        "https://discuss.pytorch.org/t/save-torch-tensors-as-hdf5/39556"
      ],
      "metadata": {
        "id": "fh6U87MZqqkB"
      }
    },
    {
      "cell_type": "code",
      "source": [
        "tensors = h5py.File('/content/gdrive/MyDrive/train20_tensors.h5', 'w') "
      ],
      "metadata": {
        "id": "PrDPMB9RqqVK"
      },
      "execution_count": null,
      "outputs": []
    },
    {
      "cell_type": "code",
      "source": [
        "N = 8497\n",
        "data_train_predictor = tensors.create_dataset('data', shape=(N, 768, 2031), dtype=np.float32, fillvalue=0)"
      ],
      "metadata": {
        "id": "X9qzWJYvs2ka"
      },
      "execution_count": 8,
      "outputs": []
    },
    {
      "cell_type": "code",
      "source": [
        "ind_range = [i for i in range(0,8600,100)]\n",
        "ind_range[-1]= 8497"
      ],
      "metadata": {
        "id": "J_jnP0nStIja"
      },
      "execution_count": 9,
      "outputs": []
    },
    {
      "cell_type": "code",
      "source": [
        "for i in range(1,len(ind_range)):\n",
        "    x = torch.load(f\"/content/gdrive/MyDrive/df_train_tensor{i}.pt\")\n",
        "    data_train_predictor[ind_range[i-1]:ind_range[i]] = x"
      ],
      "metadata": {
        "id": "w8N9Dnxetikd"
      },
      "execution_count": 10,
      "outputs": []
    },
    {
      "cell_type": "code",
      "source": [
        "tensors.close()"
      ],
      "metadata": {
        "id": "N78QgzG2uhlC"
      },
      "execution_count": 11,
      "outputs": []
    },
    {
      "cell_type": "code",
      "source": [
        "class H5DS(Dataset):\n",
        "  def __init__(self, df, path):\n",
        "    self.path = path\n",
        "    self.data = h5py.File(self.path, 'r') \n",
        "    self.data = self.data['data']\n",
        "    self.df = df\n",
        "  \n",
        "  def __len__(self):\n",
        "    return len(self.df)    \n",
        "    \n",
        "  def __getitem__(self, idx):\n",
        "   \n",
        "   return (self.data[idx], torch.tensor(self.df['primary_label'].iloc[idx]))"
      ],
      "metadata": {
        "id": "-kwHpdwg40aT"
      },
      "execution_count": 5,
      "outputs": []
    },
    {
      "cell_type": "markdown",
      "source": [
        "# Subset from 8497\n",
        "\n"
      ],
      "metadata": {
        "id": "szrotgFldFJF"
      }
    },
    {
      "cell_type": "code",
      "source": [
        "tensors = h5py.File('/content/gdrive/MyDrive/train20_tensors.h5', 'r') "
      ],
      "metadata": {
        "id": "pf53dTXhdDYl"
      },
      "execution_count": 43,
      "outputs": []
    },
    {
      "cell_type": "code",
      "source": [
        "randomlist = random.sample(range(8497), 2000)\n",
        "randomlist.sort()"
      ],
      "metadata": {
        "id": "cDrI2-4CdR2i"
      },
      "execution_count": 45,
      "outputs": []
    },
    {
      "cell_type": "code",
      "source": [
        "train20_tensors_subset = tensors['data'][randomlist]\n",
        "ts = h5py.File('/content/gdrive/MyDrive/train20_tensors_subset.h5', 'w') \n",
        "data_train_predictor_subset = ts.create_dataset('data', shape=(2000, 768, 2031), dtype=np.float32, fillvalue=0)"
      ],
      "metadata": {
        "id": "zZtlWdPqhUKp"
      },
      "execution_count": 46,
      "outputs": []
    },
    {
      "cell_type": "code",
      "source": [
        "data_train_predictor_subset[:] = train20_tensors_subset"
      ],
      "metadata": {
        "id": "Kyp92G8xd1EE"
      },
      "execution_count": 47,
      "outputs": []
    },
    {
      "cell_type": "code",
      "source": [
        "ts = h5py.File('/content/gdrive/MyDrive/train20_tensors_subset.h5', 'r') \n",
        "tsd = ts['data']\n",
        "tsd[0].shape"
      ],
      "metadata": {
        "colab": {
          "base_uri": "https://localhost:8080/"
        },
        "id": "7X_lQZl2hVuN",
        "outputId": "9f67c96e-ad29-4be3-ba9d-f9a9483c5590"
      },
      "execution_count": 48,
      "outputs": [
        {
          "output_type": "execute_result",
          "data": {
            "text/plain": [
              "(768, 2031)"
            ]
          },
          "metadata": {},
          "execution_count": 48
        }
      ]
    },
    {
      "cell_type": "code",
      "source": [
        "df_train_subset = df_train.iloc[randomlist, :]\n",
        "len(df_train_subset['primary_label'].value_counts())"
      ],
      "metadata": {
        "colab": {
          "base_uri": "https://localhost:8080/"
        },
        "id": "q9E4eAv5iG9X",
        "outputId": "3c71505a-d622-484d-9e0c-747062b38dc9"
      },
      "execution_count": 49,
      "outputs": [
        {
          "output_type": "execute_result",
          "data": {
            "text/plain": [
              "39"
            ]
          },
          "metadata": {},
          "execution_count": 49
        }
      ]
    },
    {
      "cell_type": "markdown",
      "metadata": {
        "id": "-o4p3xdRZjbm"
      },
      "source": [
        "# Model"
      ]
    },
    {
      "cell_type": "code",
      "execution_count": 6,
      "metadata": {
        "id": "NTXphqjiZkre"
      },
      "outputs": [],
      "source": [
        "class AudioClassifier(nn.Module): # MLP\n",
        "    def __init__(self, input_dim, output_dim):\n",
        "        super().__init__()\n",
        "\n",
        "        self.input_fc = nn.Linear(input_dim, 50)\n",
        "        self.hidden_fc = nn.Linear(50, 50)\n",
        "        self.output_fc = nn.Linear(50, output_dim)\n",
        "\n",
        "    def forward(self, x):\n",
        "\n",
        "        batch_size = x.shape[0]\n",
        "\n",
        "        x = x.view(batch_size, -1)\n",
        "    \n",
        "        h_1 = F.relu(self.input_fc(x))\n",
        "\n",
        "        h_2 = F.relu(self.hidden_fc(h_1))\n",
        "\n",
        "        y_pred = self.output_fc(h_2)\n",
        "\n",
        "        return y_pred\n",
        "\n",
        "\n",
        "class AudioClassifier(nn.Module): # CNN1\n",
        "    def __init__(self, input_dim, output_dim):\n",
        "        super().__init__()\n",
        "\n",
        "        self.conv_layer1 = nn.Conv1d(768, 500, 3, stride = 1)\n",
        "        self.conv_layer2 = nn.Conv1d(500, 300, 3, stride = 1)\n",
        "        self.conv_layer3 = nn.Conv1d(300, 100, 3, stride = 1)\n",
        "        self.conv_layer4 = nn.Conv1d(100, 1, 3, stride = 1)\n",
        "        self.output_fc = nn.Linear(2023, output_dim)\n",
        "\n",
        "    def forward(self, x):\n",
        "\n",
        "    \n",
        "        h_1 = F.relu(self.conv_layer1(x))\n",
        "        h_2 = F.relu(self.conv_layer2(h_1))\n",
        "        h_3 = F.relu(self.conv_layer3(h_2))\n",
        "        h_4 = F.relu(self.conv_layer4(h_3))\n",
        "\n",
        "        y_pred = self.output_fc(h_4)\n",
        "\n",
        "        return y_pred.squeeze(1)"
      ]
    },
    {
      "cell_type": "code",
      "source": [
        "model = AudioClassifier(768*2031, 39)\n",
        "\n",
        "def count_parameters(model):\n",
        "    return sum(p.numel() for p in model.parameters() if p.requires_grad)\n",
        "print(f'The model has {count_parameters(model):,} trainable parameters')"
      ],
      "metadata": {
        "colab": {
          "base_uri": "https://localhost:8080/"
        },
        "id": "8SZ2X78kv8bW",
        "outputId": "fd58d51b-21a8-475c-c8b0-aeb3f313b435"
      },
      "execution_count": 41,
      "outputs": [
        {
          "output_type": "stream",
          "name": "stdout",
          "text": [
            "The model has 1,772,137 trainable parameters\n"
          ]
        }
      ]
    },
    {
      "cell_type": "markdown",
      "metadata": {
        "id": "DPOhedYHZwaY"
      },
      "source": [
        "# Training"
      ]
    },
    {
      "cell_type": "code",
      "execution_count": 60,
      "metadata": {
        "colab": {
          "base_uri": "https://localhost:8080/"
        },
        "id": "QqPM4EQBZyL3",
        "outputId": "78b2749d-5a13-4d6a-9d6d-de44f75cd794"
      },
      "outputs": [
        {
          "output_type": "stream",
          "name": "stdout",
          "text": [
            "8412 85\n"
          ]
        },
        {
          "output_type": "stream",
          "name": "stderr",
          "text": [
            "/usr/local/lib/python3.7/dist-packages/ipykernel_launcher.py:25: UserWarning: To copy construct from a tensor, it is recommended to use sourceTensor.clone().detach() or sourceTensor.clone().detach().requires_grad_(True), rather than torch.tensor(sourceTensor).\n"
          ]
        },
        {
          "output_type": "stream",
          "name": "stdout",
          "text": [
            "Epoch: 0, Loss: 3.56, Accuracy: 0.06\n",
            "TESTING:\n",
            "Val Accuracy: 0.11\n",
            "\n",
            "\n",
            "Epoch: 1, Loss: 3.27, Accuracy: 0.12\n",
            "TESTING:\n",
            "Val Accuracy: 0.09\n",
            "\n",
            "\n",
            "Epoch: 2, Loss: 2.94, Accuracy: 0.20\n",
            "TESTING:\n",
            "Val Accuracy: 0.09\n",
            "\n",
            "\n",
            "Epoch: 3, Loss: 2.51, Accuracy: 0.31\n",
            "TESTING:\n",
            "Val Accuracy: 0.05\n",
            "\n",
            "\n",
            "Epoch: 4, Loss: 2.05, Accuracy: 0.43\n",
            "TESTING:\n",
            "Val Accuracy: 0.06\n",
            "\n",
            "\n",
            "Epoch: 5, Loss: 1.51, Accuracy: 0.58\n",
            "TESTING:\n",
            "Val Accuracy: 0.05\n",
            "\n",
            "\n",
            "Epoch: 6, Loss: 1.07, Accuracy: 0.70\n",
            "TESTING:\n",
            "Val Accuracy: 0.06\n",
            "\n",
            "\n",
            "Epoch: 7, Loss: 0.79, Accuracy: 0.78\n",
            "TESTING:\n",
            "Val Accuracy: 0.04\n",
            "\n",
            "\n",
            "Epoch: 8, Loss: 0.58, Accuracy: 0.84\n",
            "TESTING:\n",
            "Val Accuracy: 0.04\n",
            "\n",
            "\n",
            "Epoch: 9, Loss: 0.42, Accuracy: 0.88\n",
            "TESTING:\n",
            "Val Accuracy: 0.05\n",
            "\n",
            "\n",
            "Epoch: 10, Loss: 0.32, Accuracy: 0.92\n",
            "TESTING:\n",
            "Val Accuracy: 0.05\n",
            "\n",
            "\n",
            "Epoch: 11, Loss: 0.24, Accuracy: 0.94\n",
            "TESTING:\n",
            "Val Accuracy: 0.05\n",
            "\n",
            "\n",
            "Epoch: 12, Loss: 0.18, Accuracy: 0.95\n",
            "TESTING:\n",
            "Val Accuracy: 0.06\n",
            "\n",
            "\n",
            "Epoch: 13, Loss: 0.16, Accuracy: 0.96\n",
            "TESTING:\n",
            "Val Accuracy: 0.07\n",
            "\n",
            "\n",
            "Epoch: 14, Loss: 0.14, Accuracy: 0.96\n",
            "TESTING:\n",
            "Val Accuracy: 0.07\n",
            "\n",
            "\n",
            "Finished Training\n"
          ]
        }
      ],
      "source": [
        "# Create the model and put it on the GPU if available\n",
        "myModel = AudioClassifier(768*2031, 39)\n",
        "device = torch.device(\"cuda:0\" if torch.cuda.is_available() else \"cpu\") #\n",
        "myModel = myModel.to(device)\n",
        "\n",
        "def training(model, train_dl, num_epochs, val_dl):\n",
        "  # Loss Function, Optimizer \n",
        "  criterion = nn.CrossEntropyLoss()\n",
        "  optimizer = torch.optim.Adam(model.parameters(),lr=0.001)\n",
        "  \n",
        "  scheduler = torch.optim.lr_scheduler.OneCycleLR(optimizer, max_lr=0.001,\n",
        "                                                steps_per_epoch=int(len(train_dl)),\n",
        "                                                epochs=num_epochs,\n",
        "                                                anneal_strategy='linear')\n",
        "\n",
        "  # Epoch iterator\n",
        "  for epoch in range(num_epochs):\n",
        "    running_loss = 0.0\n",
        "    correct_prediction = 0\n",
        "    total_prediction = 0\n",
        "    indices = []\n",
        "    # Batch iterator\n",
        "    for i, data in enumerate(train_dl):\n",
        "\n",
        "        inputs, labels = torch.tensor(data[0]).to(device), torch.tensor(data[1]).to(device) # Get the input features and target labels, and put them on the GPU\n",
        "        \n",
        "        # Normalize the inputs\n",
        "        # inputs_m, inputs_s = inputs.mean(), inputs.std()\n",
        "        # inputs = (inputs - inputs_m) / inputs_s\n",
        "\n",
        "        \n",
        "        optimizer.zero_grad() # Zero the parameter gradients\n",
        "\n",
        "        # forward + backward + optimize\n",
        "        outputs = model(inputs.float())\n",
        "      \n",
        "        loss = criterion(outputs, labels)\n",
        "        loss.backward()\n",
        "        optimizer.step()\n",
        "        scheduler.step()\n",
        "\n",
        "        running_loss += loss.item() # Keep stats for Loss and Accuracy\n",
        "\n",
        "        _, prediction = torch.max(outputs,1) # Get the predicted class with the highest score\n",
        "        correct_prediction += (prediction == labels).sum().item() # Count of predictions that matched the target label\n",
        "        total_prediction += prediction.shape[0]\n",
        "\n",
        "    \n",
        "    # Print stats at the end of the epoch\n",
        "    num_batches = len(train_dl)\n",
        "    avg_loss = running_loss / num_batches\n",
        "    acc = correct_prediction/total_prediction\n",
        "    print(f'Epoch: {epoch}, Loss: {avg_loss:.2f}, Accuracy: {acc:.2f}')\n",
        "    print(f\"TESTING:\")\n",
        "    inference(model, val_dl)\n",
        "    print(\"\\n\")\n",
        "\n",
        "  print('Finished Training')\n",
        "\n",
        "path = \"/content/gdrive/MyDrive/train20_tensors.h5\"\n",
        "NUM_EPOCHS = 15\n",
        "# Initializing the dataset\n",
        "myds = H5DS(df_train, path)\n",
        "# Random split of 80:20 between training and validation\n",
        "num_items = len(myds)\n",
        "num_train = round(num_items*(0.99))\n",
        "num_val = num_items - num_train\n",
        "print(num_train,num_val)\n",
        "train_ds, val_ds = random_split(myds, [num_train, num_val])\n",
        "# Create training and validation data loaders\n",
        "train_dl = torch.utils.data.DataLoader(train_ds, batch_size=10, shuffle=True)\n",
        "val_dl = torch.utils.data.DataLoader(val_ds, batch_size=10, shuffle=False)\n",
        "\n",
        "training(myModel, train_dl, NUM_EPOCHS, val_dl) # Training"
      ]
    },
    {
      "cell_type": "markdown",
      "source": [
        "# Results (10 epochs):\n",
        "\n",
        "---\n",
        "\n",
        "Sample Length (s) : 20\n",
        "\n",
        "Model: MLP\n",
        "\n",
        "Normalization: Yes\n",
        "\n",
        "Number of classes: 39\n",
        "\n",
        "Mini-batch size = 1\n",
        "\n",
        "Number of Samples in training: 8500*(0.8)\n",
        "\n",
        "`fs = [1000,20000]`\n",
        "\n",
        "Accurary = 0.05\n",
        "\n",
        "Loss = 3.59\n",
        "\n",
        "Input shape: `(768, 2031)`\n",
        "\n",
        "Time taken for training: ~1h 30m\n",
        "\n",
        "Trainable params: 77,994,989\n",
        "\n",
        "---\n",
        "\n",
        "\n",
        "Sample Length (s) : 20\n",
        "\n",
        "Model: MLP \n",
        "\n",
        "Normalization: No\n",
        "\n",
        "Number of classes: 39\n",
        "\n",
        "Mini-batch size = 10\n",
        "\n",
        "Number of Samples in training: 8500*(0.99)\n",
        "\n",
        "`fs = [1000,20000]`\n",
        "\n",
        "Input shape: `(768, 2031)`\n",
        "\n",
        "Accurary = 0.05\n",
        "\n",
        "Loss = 3.59\n",
        "\n",
        "Time taken for training: 1:30 \n",
        "\n",
        "Trainable params: 77,994,989\n",
        "\n",
        "---\n",
        "\n",
        "Sample Length (s) : 20\n",
        "\n",
        "Model: CNN1 \n",
        "\n",
        "Normalization: No\n",
        "\n",
        "Number of classes: 39\n",
        "\n",
        "Mini-batch size = 10\n",
        "\n",
        "Number of Samples in training: 8500*(0.99)\n",
        "\n",
        "`fs = [1000,20000]`\n",
        "\n",
        "Input shape: `(768, 2031)`\n",
        "\n",
        "Val Accurary = 0.10\n",
        "\n",
        "Loss = N/A \n",
        "\n",
        "Time taken for training: 1:30 \n",
        "\n",
        "Trainable params: 1,772,137\n",
        "\n",
        "---\n",
        "\n",
        "\n",
        "\n",
        "\n",
        "\n"
      ],
      "metadata": {
        "id": "Dp-wV8GORok-"
      }
    },
    {
      "cell_type": "markdown",
      "source": [
        "---\n",
        "\n",
        "Epochs: 15\n",
        "\n",
        "Sample Length (s) : 20\n",
        "\n",
        "Model: CNN1 \n",
        "\n",
        "Normalization: No\n",
        "\n",
        "Number of classes: 39\n",
        "\n",
        "Mini-batch size = 10\n",
        "\n",
        "Number of Samples in training: 2000*(0.85)\n",
        "\n",
        "`fs = [1000,20000]`\n",
        "\n",
        "Input shape: `(768, 2031)`\n",
        "\n",
        "Val Accurary = 0.05\n",
        "\n",
        "Loss = N/A \n",
        "\n",
        "Time taken for training: 1:30 \n",
        "\n",
        "Trainable params: 1,772,137\n",
        "\n",
        "---\n",
        "\n",
        "CURRENT:\n",
        "\n",
        "Epochs: 15\n",
        "\n",
        "Sample Length (s) : 20\n",
        "\n",
        "Model: CNN1 \n",
        "\n",
        "Normalization: Yes\n",
        "\n",
        "Number of classes: 39\n",
        "\n",
        "Mini-batch size = 10\n",
        "\n",
        "Number of Samples in training: 2000*(0.85)\n",
        "\n",
        "`fs = [1000,20000]`\n",
        "\n",
        "Input shape: `(768, 2031)`\n",
        "\n",
        "Val Accurary = 0.04 \n",
        "\n",
        "Loss = N/A \n",
        "\n",
        "Time taken for training: 1:30 \n",
        "\n",
        "Trainable params: 1,772,137\n",
        "\n",
        "---\n"
      ],
      "metadata": {
        "id": "BoYxIwMBbCHv"
      }
    },
    {
      "cell_type": "code",
      "source": [
        "MyModel = None\n",
        "torch.cuda.empty_cache()\n",
        "with torch.no_grad():\n",
        "    torch.cuda.empty_cache()"
      ],
      "metadata": {
        "id": "RTMnn6ovE2Eb"
      },
      "execution_count": 20,
      "outputs": []
    },
    {
      "cell_type": "markdown",
      "metadata": {
        "id": "5SmanXRXZ8RN"
      },
      "source": [
        "# Testing"
      ]
    },
    {
      "cell_type": "code",
      "source": [
        "def inference(model, val_dl):\n",
        "  correct_prediction = 0\n",
        "  total_prediction = 0\n",
        "\n",
        "  # Disable gradient updates\n",
        "  with torch.no_grad():\n",
        "    for data in val_dl:\n",
        "      # Get the input features and target labels, and put them on the GPU\n",
        "      inputs, labels = data[0].to(device), data[1].to(device)\n",
        "\n",
        "      # Normalize the inputs\n",
        "      # inputs_m, inputs_s = inputs.mean(), inputs.std()\n",
        "      # inputs = (inputs - inputs_m) / inputs_s\n",
        "\n",
        "      # Get predictions\n",
        "      outputs = model(inputs.float())\n",
        "\n",
        "      # Get the predicted class with the highest score\n",
        "      _, prediction = torch.max(outputs,1)\n",
        "      # Count of predictions that matched the target label\n",
        "      correct_prediction += (prediction == labels).sum().item()\n",
        "      total_prediction += prediction.shape[0]\n",
        "    \n",
        "  acc = correct_prediction/total_prediction\n",
        "  print(f'Val Accuracy: {acc:.2f}')"
      ],
      "metadata": {
        "id": "TQXgw8folK6c"
      },
      "execution_count": 56,
      "outputs": []
    },
    {
      "cell_type": "code",
      "execution_count": null,
      "metadata": {
        "id": "-GTt7l-zZ9ef"
      },
      "outputs": [],
      "source": [
        "inference(myModel, val_dl)"
      ]
    }
  ],
  "metadata": {
    "colab": {
      "collapsed_sections": [],
      "machine_shape": "hm",
      "name": "BirdSongIdentification.ipynb",
      "provenance": [],
      "mount_file_id": "1041MvhLg0VHUfYywBA-WpT6MxfrgZ4kk",
      "authorship_tag": "ABX9TyNlOqCDgnyiSN/veSjapv2l",
      "include_colab_link": true
    },
    "gpuClass": "standard",
    "kernelspec": {
      "display_name": "Python 3",
      "name": "python3"
    },
    "language_info": {
      "name": "python"
    },
    "accelerator": "GPU"
  },
  "nbformat": 4,
  "nbformat_minor": 0
}