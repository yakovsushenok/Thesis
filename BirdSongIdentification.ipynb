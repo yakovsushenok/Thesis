{
  "nbformat": 4,
  "nbformat_minor": 0,
  "metadata": {
    "colab": {
      "name": "BirdSongIdentification.ipynb",
      "provenance": [],
      "collapsed_sections": [],
      "machine_shape": "hm",
      "authorship_tag": "ABX9TyPhlCH/FdTixc6OScQ6Uis2",
      "include_colab_link": true
    },
    "kernelspec": {
      "name": "python3",
      "display_name": "Python 3"
    },
    "language_info": {
      "name": "python"
    },
    "gpuClass": "standard",
    "accelerator": "GPU"
  },
  "cells": [
    {
      "cell_type": "markdown",
      "metadata": {
        "id": "view-in-github",
        "colab_type": "text"
      },
      "source": [
        "<a href=\"https://colab.research.google.com/github/yakovsushenok/Thesis/blob/main/BirdSongIdentification.ipynb\" target=\"_parent\"><img src=\"https://colab.research.google.com/assets/colab-badge.svg\" alt=\"Open In Colab\"/></a>"
      ]
    },
    {
      "cell_type": "code",
      "source": [
        "import zipfile\n",
        "import os\n",
        "import pandas as pd\n",
        "import math, random\n",
        "import torch\n",
        "import torchaudio\n",
        "from torchaudio import transforms\n",
        "from torch.utils.data import DataLoader, Dataset, random_split\n",
        "import torch.nn.functional as F\n",
        "import torch.nn as nn\n",
        "from torch.nn import init\n",
        "from google.colab import drive\n",
        "from sklearn.model_selection import StratifiedShuffleSplit\n",
        "drive.mount('/content/gdrive')\n",
        "import time\n",
        "import matplotlib.pyplot as plt\n",
        "import numpy as np\n",
        "import numpy.matlib\n",
        "try:\n",
        "    from scipy.fftpack import fft, ifft\n",
        "except ImportError:\n",
        "    from numpy.fft import fft, ifft\n",
        "from scipy.signal import lfilter\n",
        "import scipy.io as sio\n",
        "from scipy import signal"
      ],
      "metadata": {
        "colab": {
          "base_uri": "https://localhost:8080/"
        },
        "id": "qwAodtP0mIFZ",
        "outputId": "3ac14267-025e-403d-f2ca-a5d55a61584c"
      },
      "execution_count": 1,
      "outputs": [
        {
          "output_type": "stream",
          "name": "stdout",
          "text": [
            "Drive already mounted at /content/gdrive; to attempt to forcibly remount, call drive.mount(\"/content/gdrive\", force_remount=True).\n"
          ]
        }
      ]
    },
    {
      "cell_type": "markdown",
      "source": [
        "# Data"
      ],
      "metadata": {
        "id": "ibpWhcb2BuOF"
      }
    },
    {
      "cell_type": "code",
      "source": [
        "# extracting the training data (audio files) from the zip file (12 minutes)\n",
        "zip_ref = zipfile.ZipFile('/content/gdrive/MyDrive/train_short_audio.zip', 'r')\n",
        "zip_ref.extractall('/content/tmp') \n",
        "zip_ref.close()"
      ],
      "metadata": {
        "id": "yyqhHqKadWAN"
      },
      "execution_count": 2,
      "outputs": []
    },
    {
      "cell_type": "code",
      "source": [
        "# extracting the data which has audio files that are of similar length to the testing data\n",
        "zip_ref = zipfile.ZipFile('/content/gdrive/MyDrive/train_soundscapes.zip', 'r')\n",
        "zip_ref.extractall('/content/trainSoundscapes') \n",
        "zip_ref.close()\n",
        "\n",
        "df = pd.read_csv(\"/content/gdrive/MyDrive/train_metadata.csv\") # the metadata\n",
        "df['relative_path'] = '/content/tmp/' + df['primary_label'] + '/' + df['filename'] "
      ],
      "metadata": {
        "id": "h4DrXTGvfmQe"
      },
      "execution_count": 2,
      "outputs": []
    },
    {
      "cell_type": "markdown",
      "source": [
        "### Subsetting the data so that we're left with subspecies which have 300+ samples and with audio rated 4.0+"
      ],
      "metadata": {
        "id": "NsG9J8nCm-Ss"
      }
    },
    {
      "cell_type": "code",
      "source": [
        "df = df[(df['primary_label'].value_counts().reindex(df['primary_label'])>299).values & (df['rating'] > 3.5)]\n",
        "df = df[['relative_path', 'primary_label']]\n",
        "unique_labels = df.primary_label.unique()\n",
        "mapping = dict(zip(unique_labels, range(len(unique_labels))))\n",
        "df.primary_label = df.primary_label.map(mapping)"
      ],
      "metadata": {
        "id": "gACq0PqQtFDs"
      },
      "execution_count": 3,
      "outputs": []
    },
    {
      "cell_type": "markdown",
      "source": [
        "### We're going to partition our data into a training/validation/testing test with 80% being the training, 10% for validating and 10% for testing with each species category having the same distribution."
      ],
      "metadata": {
        "id": "8S2CQaDLbCL9"
      }
    },
    {
      "cell_type": "code",
      "source": [
        "# splitting into train, val+test\n",
        "X, y = df['relative_path'], df['primary_label']\n",
        "split1 = StratifiedShuffleSplit(n_splits=2, test_size=0.2, random_state=0)\n",
        "train_index, val_test = next(split1.split(X, y))\n",
        "# splitting into val, test\n",
        "X1, y1 = df.iloc[val_test, 0], df.iloc[val_test, 1]\n",
        "split2 = StratifiedShuffleSplit(n_splits=2, test_size=0.5, random_state=0)\n",
        "val_index, test_index = next(split2.split(X1, y1))\n",
        "# subsetting the datasets\n",
        "df_train = df.iloc[train_index,:]\n",
        "df_val = df.iloc[val_index, :]\n",
        "df_test = df.iloc[test_index, :]"
      ],
      "metadata": {
        "id": "v0ClluLca1oX"
      },
      "execution_count": 4,
      "outputs": []
    },
    {
      "cell_type": "markdown",
      "source": [
        "# Utility classes"
      ],
      "metadata": {
        "id": "CW-iaKXPK_8l"
      }
    },
    {
      "cell_type": "code",
      "source": [
        "### MRCG CODE\n",
        "epsc = 0.000001\n",
        "\n",
        "def mrcg_extract(sig, sampFreq = 32000): # Sample frequency is always 32,000 in our case\n",
        "    # Code From: https://github.com/MoongMoong/MRCG_python/blob/master/MRCG_python_master/mrcg/MRCG.py\n",
        "    \n",
        "    beta = 1000 / np.sqrt(sum(map(lambda x:x*x,sig)) / len(sig))\n",
        "    sig = sig*beta\n",
        "    sig = sig.reshape(len(sig), 1)\n",
        "    g = gammatone(sig, 64, sampFreq)\n",
        "    cochlea1 = np.log10(cochleagram(g, int(sampFreq * 0.025), int(sampFreq * 0.010)))\n",
        "    cochlea2 = np.log10(cochleagram(g, int(sampFreq * 0.200), int(sampFreq * 0.010)))\n",
        "    cochlea1 = cochlea1[:,:]\n",
        "    cochlea2 = cochlea2[:,:]\n",
        "    cochlea3 = get_avg(cochlea1, 5, 5)\n",
        "    cochlea4 = get_avg(cochlea1, 11, 11)\n",
        "    \n",
        "    all_cochleas = np.concatenate([cochlea1,cochlea2,cochlea3,cochlea4],0)\n",
        "    del0 = deltas(all_cochleas)\n",
        "    ddel = deltas(deltas(all_cochleas, 5), 5)\n",
        "\n",
        "    ouotput = np.concatenate((all_cochleas, del0, ddel), 0)\n",
        "\n",
        "    return ouotput\n",
        "\n",
        "def gammatone(insig, numChan=128, fs = 16000): \n",
        "    fRange = [50, 8000]\n",
        "    filterOrder = 4\n",
        "    gL = 2048\n",
        "    sigLength = len(insig)\n",
        "    phase = np.zeros([numChan, 1])\n",
        "    erb_b = hz2erb(fRange)\n",
        "\n",
        "    \n",
        "    erb_b_diff = (erb_b[1]-erb_b[0])/(numChan-1)\n",
        "    erb = np.arange(erb_b[0], erb_b[1]+epsc, erb_b_diff)\n",
        "    cf = erb2hz(erb)\n",
        "    b = [1.019 * 24.7 * (4.37 * x / 1000 + 1) for x in cf]\n",
        "    gt = np.zeros([numChan, gL])\n",
        "    tmp_t = np.arange(1,gL+1)/fs\n",
        "    for i in range(numChan):\n",
        "        gain = 10**((loudness(cf[i])-60)/20)/3*(2 * np.pi * b[i] / fs)**4\n",
        "        tmp_temp = [gain*(fs**3)*x**(filterOrder - 1)*np.exp(-2 * np.pi * b[i] * x)*np.cos(2 * np.pi * cf[i] * x + phase[i]) for x in tmp_t]\n",
        "        tmp_temp2 = np.reshape(tmp_temp, [1, gL])\n",
        "\n",
        "        gt[i, :] = tmp_temp2\n",
        "\n",
        "    sig = np.reshape(insig,[sigLength,1])\n",
        "    gt2 = np.transpose(gt)\n",
        "    resig = np.matlib.repmat(sig,1,numChan)\n",
        "    r = np.transpose(fftfilt(gt2,resig,numChan))\n",
        "    return r\n",
        "\n",
        "def hz2erb(hz):  \n",
        "    erb1 = 0.00437\n",
        "    erb2 = np.multiply(erb1,hz)\n",
        "    erb3 = np.subtract(erb2,-1)\n",
        "    erb4 = np.log10(erb3)\n",
        "    erb = 21.4 *erb4\n",
        "    return erb\n",
        "\n",
        "def erb2hz(erb): \n",
        "    hz = [(10**(x/21.4)-1)/(0.00437) for x in erb]\n",
        "    return hz\n",
        "\n",
        "def loudness(freq): \n",
        "    dB=60\n",
        "    fmat = sio.loadmat('/content/gdrive/MyDrive/f_af_bf_cf.mat')\n",
        "    af = fmat['af'][0]\n",
        "    bf = fmat['bf'][0]\n",
        "    cf = fmat['cf'][0]\n",
        "    ff = fmat['ff'][0]\n",
        "    i = 0\n",
        "    while ff[i] < freq:\n",
        "        i = i + 1\n",
        "\n",
        "    afy = af[i - 1] + (freq - ff[i - 1]) * (af[i] - af[i - 1]) / (ff[i] - ff[i - 1])\n",
        "    bfy = bf[i - 1] + (freq - ff[i - 1]) * (bf[i] - bf[i - 1]) / (ff[i] - ff[i - 1])\n",
        "    cfy = cf[i - 1] + (freq - ff[i - 1]) * (cf[i] - cf[i - 1]) / (ff[i] - ff[i - 1])\n",
        "    loud = 4.2 + afy * (dB - cfy) / (1 + bfy * (dB - cfy))\n",
        "    return loud\n",
        "\n",
        "def fftfilt(b,x,nfft): \n",
        "    fftflops = [18, 59, 138, 303, 660, 1441, 3150, 6875, 14952, 32373, 69762,\n",
        "                149647, 319644, 680105, 1441974, 3047619, 6422736, 13500637, 28311786,\n",
        "                59244791, 59244791*2.09]\n",
        "    nb, _ = np.shape(b)\n",
        "    nx, mx = np.shape(x)\n",
        "    n_min = 0\n",
        "    while 2**n_min < nb-1:\n",
        "        n_min = n_min+1\n",
        "    n_temp = np.arange(n_min, 21 + epsc, 1)\n",
        "    n = np.power(2,n_temp)\n",
        "    fftflops = fftflops[n_min-1:21]\n",
        "    L = np.subtract(n,nb-1)\n",
        "    lenL= np.size(L)\n",
        "    temp_ind0 = np.ceil(np.divide(nx,L))\n",
        "    temp_ind = np.multiply(temp_ind0,fftflops)\n",
        "    temp_ind = np.array(temp_ind)\n",
        "    ind = np.argmin(temp_ind)\n",
        "    nfft=int(n[ind])\n",
        "    L=int(L[ind])\n",
        "    b_tr = np.transpose(b)\n",
        "    B_tr = fft(b_tr,nfft)\n",
        "    B = np.transpose(B_tr)\n",
        "    y = np.zeros([nx, mx])\n",
        "    istart = 0\n",
        "    while istart < nx :\n",
        "        iend = min(istart+L,nx)\n",
        "        if (iend - istart) == 1 :\n",
        "            X = x[0][0]*np.ones([nx,mx])\n",
        "        else :\n",
        "            xtr = np.transpose(x[istart:iend][:])\n",
        "            Xtr = fft(xtr,nfft)\n",
        "            X = np.transpose(Xtr)\n",
        "        temp_Y = np.transpose(np.multiply(B,X))\n",
        "        Ytr = ifft(temp_Y,nfft)\n",
        "        Y = np.transpose(Ytr)\n",
        "        yend = np.min([nx, istart + nfft])\n",
        "        y[istart:yend][:] = y[istart:yend][:] + np.real(Y[0:yend-istart][:])\n",
        "\n",
        "        istart = istart + L\n",
        "    \n",
        "    return y\n",
        "\n",
        "def cochleagram(r, winLength = 320, winShift=160): \n",
        "    numChan, sigLength = np.shape(r)\n",
        "    increment = winLength / winShift\n",
        "    M = np.floor(sigLength / winShift)\n",
        "    a = np.zeros([numChan, int(M)])\n",
        "    rs = np.square(r)\n",
        "    rsl = np.concatenate((np.zeros([numChan,winLength-winShift]),rs),1)\n",
        "    for m in range(int(M)):\n",
        "        temp = rsl[:,m*winShift : m*winShift+winLength]\n",
        "        a[:, m] = np.sum(temp,1)\n",
        "\n",
        "    return a\n",
        "\n",
        "def get_avg( m , v_span, h_span): \n",
        "    nr,nc = np.shape(m)\n",
        "\n",
        "    fil_size = (2 * v_span + 1) * (2 * h_span + 1)\n",
        "    meanfil = np.ones([1+2*h_span,1+2*h_span])\n",
        "    meanfil = np.divide(meanfil,fil_size)\n",
        "\n",
        "    out = signal.convolve2d(m, meanfil, boundary='fill', fillvalue=0, mode='same')\n",
        "    return out\n",
        "\n",
        "def deltas(x, w=9) : \n",
        "    nr,nc = np.shape(x)\n",
        "    if nc ==0 :\n",
        "        d= x\n",
        "    else :\n",
        "        hlen = int(np.floor(w / 2))\n",
        "        w = 2 * hlen + 1\n",
        "        win=np.arange(hlen, int(-(hlen+1)), -1)\n",
        "        temp = x[:, 0]\n",
        "        fx = np.matlib.repmat(temp.reshape([-1,1]), 1, int(hlen))\n",
        "        temp = x[:, nc-1]\n",
        "        ex = np.matlib.repmat(temp.reshape([-1,1]), 1, int(hlen))\n",
        "        xx = np.concatenate((fx, x, ex),1)\n",
        "        d = lfilter(win, 1, xx, 1)\n",
        "        d = d[:,2*hlen:nc+2*hlen]\n",
        "\n",
        "    return d"
      ],
      "metadata": {
        "id": "fI9doie9yewR"
      },
      "execution_count": 5,
      "outputs": []
    },
    {
      "cell_type": "markdown",
      "source": [
        "Now that I have the MRCG code, I want to create a dataset which will hold these MRCG values. This will mean I'll not have to pre-process them every run of the model."
      ],
      "metadata": {
        "id": "lzyh9vU40ePE"
      }
    },
    {
      "cell_type": "code",
      "source": [
        "def get_mrcg_from_file(file):\n",
        "  \n",
        "  MAX = 75348463 # zero padding so that the length is equal to the length of the longest waveform \n",
        "  print(\"iii\")\n",
        "  waveform, sr = torchaudio.load(file)\n",
        "  target = torch.zeros(MAX)\n",
        "  source = waveform[0]\n",
        "  target[:len(source)] = source\n",
        "  return mrcg_extract(target)\n",
        "\n"
      ],
      "metadata": {
        "id": "pSjM_qV70dn1"
      },
      "execution_count": 6,
      "outputs": []
    },
    {
      "cell_type": "code",
      "source": [
        "df_toy = df[int(0.25*len(df)):int(0.5*len(df))]\n",
        "df_toy['mrcg'] = df_toy['relative_path'].apply(get_mrcg_from_file)\n",
        "max = 0\n",
        "for i in range(len(df_toy)):\n",
        "  if max < df_toy.iloc[i,-1].shape[0]:\n",
        "    max = df_toy.iloc[i,-1].shape[0]\n",
        "print(max) # 73084832 (0:0.25, ), 75348463 (0.25:0.5), 29287689 (0.5:0.75), 26964672 (0.75:1) MAX=75348463"
      ],
      "metadata": {
        "colab": {
          "base_uri": "https://localhost:8080/"
        },
        "id": "cgYLvGa07Pb1",
        "outputId": "d6a9812a-f89f-49ae-c19d-ad295bd1fabb"
      },
      "execution_count": null,
      "outputs": [
        {
          "output_type": "stream",
          "name": "stdout",
          "text": [
            "iii\n"
          ]
        }
      ]
    },
    {
      "cell_type": "code",
      "source": [
        "def get_wav(file):\n",
        "   waveform, sr = torchaudio.load(file); waveform = waveform[0]\n",
        "   return len(waveform)\n",
        "\n",
        "df_toy = df[:int(0.25*len(df))]\n",
        "df['dd'] = df['relative_path'].apply(get_wav)\n",
        "\n",
        "mid = []\n",
        "for i in range(len(df)):\n",
        "  mid.append(df.iloc[i,-1])\n",
        "print(np.mean(np.array(mid))) "
      ],
      "metadata": {
        "colab": {
          "base_uri": "https://localhost:8080/"
        },
        "id": "cIb4kDrdCZ1D",
        "outputId": "557e18e9-f7b9-4da6-8eea-a75eb72465ca"
      },
      "execution_count": 10,
      "outputs": [
        {
          "output_type": "stream",
          "name": "stdout",
          "text": [
            "1937318.8119939747\n"
          ]
        }
      ]
    },
    {
      "cell_type": "code",
      "source": [
        "def get_mrcg_from_file(file):\n",
        "  \n",
        "  mid = 1937318 # zero padding so that the length is equal to the length of the longest waveform \n",
        "  print(\"iii\")\n",
        "  waveform, sr = torchaudio.load(file)\n",
        "  if len(waveform[0]) < mid:\n",
        "    target = torch.zeros(mid)\n",
        "    source = waveform[0]\n",
        "    target[:len(source)] = source\n",
        "    return mrcg_extract(target)\n",
        "  else:\n",
        "    waveform = waveform[0]\n",
        "    return mrcg_extract(waveform[:mid])"
      ],
      "metadata": {
        "id": "K8tsXpO1Mu5m"
      },
      "execution_count": 13,
      "outputs": []
    },
    {
      "cell_type": "code",
      "source": [
        "df_toy = df[:2]\n",
        "df_toy['dd'] = df_toy['relative_path'].apply(get_mrcg_from_file)\n",
        "\n",
        "df_toy\n",
        "\n",
        "#df_train['mrcg'] = df_train['relative_path'].apply(get_mrcg_from_file)"
      ],
      "metadata": {
        "colab": {
          "base_uri": "https://localhost:8080/",
          "height": 251
        },
        "id": "vGp0pN2LN3qr",
        "outputId": "e1be6b49-b402-4764-ffb8-da2028dc2121"
      },
      "execution_count": 15,
      "outputs": [
        {
          "output_type": "stream",
          "name": "stdout",
          "text": [
            "iii\n",
            "iii\n"
          ]
        },
        {
          "output_type": "stream",
          "name": "stderr",
          "text": [
            "/usr/local/lib/python3.7/dist-packages/ipykernel_launcher.py:2: SettingWithCopyWarning: \n",
            "A value is trying to be set on a copy of a slice from a DataFrame.\n",
            "Try using .loc[row_indexer,col_indexer] = value instead\n",
            "\n",
            "See the caveats in the documentation: https://pandas.pydata.org/pandas-docs/stable/user_guide/indexing.html#returning-a-view-versus-a-copy\n",
            "  \n"
          ]
        },
        {
          "output_type": "execute_result",
          "data": {
            "text/plain": [
              "                         relative_path  primary_label  \\\n",
              "1466  /content/tmp/amerob/XC107523.ogg              0   \n",
              "1467  /content/tmp/amerob/XC112597.ogg              0   \n",
              "\n",
              "                                                     dd  \n",
              "1466  [[-1.8068877959212895, -0.275449599027982, 0.9...  \n",
              "1467  [[-2.396268977063757, 0.18771316777299862, 0.8...  "
            ],
            "text/html": [
              "\n",
              "  <div id=\"df-c63db0ed-e815-4e8c-b2cc-28a7223e6647\">\n",
              "    <div class=\"colab-df-container\">\n",
              "      <div>\n",
              "<style scoped>\n",
              "    .dataframe tbody tr th:only-of-type {\n",
              "        vertical-align: middle;\n",
              "    }\n",
              "\n",
              "    .dataframe tbody tr th {\n",
              "        vertical-align: top;\n",
              "    }\n",
              "\n",
              "    .dataframe thead th {\n",
              "        text-align: right;\n",
              "    }\n",
              "</style>\n",
              "<table border=\"1\" class=\"dataframe\">\n",
              "  <thead>\n",
              "    <tr style=\"text-align: right;\">\n",
              "      <th></th>\n",
              "      <th>relative_path</th>\n",
              "      <th>primary_label</th>\n",
              "      <th>dd</th>\n",
              "    </tr>\n",
              "  </thead>\n",
              "  <tbody>\n",
              "    <tr>\n",
              "      <th>1466</th>\n",
              "      <td>/content/tmp/amerob/XC107523.ogg</td>\n",
              "      <td>0</td>\n",
              "      <td>[[-1.8068877959212895, -0.275449599027982, 0.9...</td>\n",
              "    </tr>\n",
              "    <tr>\n",
              "      <th>1467</th>\n",
              "      <td>/content/tmp/amerob/XC112597.ogg</td>\n",
              "      <td>0</td>\n",
              "      <td>[[-2.396268977063757, 0.18771316777299862, 0.8...</td>\n",
              "    </tr>\n",
              "  </tbody>\n",
              "</table>\n",
              "</div>\n",
              "      <button class=\"colab-df-convert\" onclick=\"convertToInteractive('df-c63db0ed-e815-4e8c-b2cc-28a7223e6647')\"\n",
              "              title=\"Convert this dataframe to an interactive table.\"\n",
              "              style=\"display:none;\">\n",
              "        \n",
              "  <svg xmlns=\"http://www.w3.org/2000/svg\" height=\"24px\"viewBox=\"0 0 24 24\"\n",
              "       width=\"24px\">\n",
              "    <path d=\"M0 0h24v24H0V0z\" fill=\"none\"/>\n",
              "    <path d=\"M18.56 5.44l.94 2.06.94-2.06 2.06-.94-2.06-.94-.94-2.06-.94 2.06-2.06.94zm-11 1L8.5 8.5l.94-2.06 2.06-.94-2.06-.94L8.5 2.5l-.94 2.06-2.06.94zm10 10l.94 2.06.94-2.06 2.06-.94-2.06-.94-.94-2.06-.94 2.06-2.06.94z\"/><path d=\"M17.41 7.96l-1.37-1.37c-.4-.4-.92-.59-1.43-.59-.52 0-1.04.2-1.43.59L10.3 9.45l-7.72 7.72c-.78.78-.78 2.05 0 2.83L4 21.41c.39.39.9.59 1.41.59.51 0 1.02-.2 1.41-.59l7.78-7.78 2.81-2.81c.8-.78.8-2.07 0-2.86zM5.41 20L4 18.59l7.72-7.72 1.47 1.35L5.41 20z\"/>\n",
              "  </svg>\n",
              "      </button>\n",
              "      \n",
              "  <style>\n",
              "    .colab-df-container {\n",
              "      display:flex;\n",
              "      flex-wrap:wrap;\n",
              "      gap: 12px;\n",
              "    }\n",
              "\n",
              "    .colab-df-convert {\n",
              "      background-color: #E8F0FE;\n",
              "      border: none;\n",
              "      border-radius: 50%;\n",
              "      cursor: pointer;\n",
              "      display: none;\n",
              "      fill: #1967D2;\n",
              "      height: 32px;\n",
              "      padding: 0 0 0 0;\n",
              "      width: 32px;\n",
              "    }\n",
              "\n",
              "    .colab-df-convert:hover {\n",
              "      background-color: #E2EBFA;\n",
              "      box-shadow: 0px 1px 2px rgba(60, 64, 67, 0.3), 0px 1px 3px 1px rgba(60, 64, 67, 0.15);\n",
              "      fill: #174EA6;\n",
              "    }\n",
              "\n",
              "    [theme=dark] .colab-df-convert {\n",
              "      background-color: #3B4455;\n",
              "      fill: #D2E3FC;\n",
              "    }\n",
              "\n",
              "    [theme=dark] .colab-df-convert:hover {\n",
              "      background-color: #434B5C;\n",
              "      box-shadow: 0px 1px 3px 1px rgba(0, 0, 0, 0.15);\n",
              "      filter: drop-shadow(0px 1px 2px rgba(0, 0, 0, 0.3));\n",
              "      fill: #FFFFFF;\n",
              "    }\n",
              "  </style>\n",
              "\n",
              "      <script>\n",
              "        const buttonEl =\n",
              "          document.querySelector('#df-c63db0ed-e815-4e8c-b2cc-28a7223e6647 button.colab-df-convert');\n",
              "        buttonEl.style.display =\n",
              "          google.colab.kernel.accessAllowed ? 'block' : 'none';\n",
              "\n",
              "        async function convertToInteractive(key) {\n",
              "          const element = document.querySelector('#df-c63db0ed-e815-4e8c-b2cc-28a7223e6647');\n",
              "          const dataTable =\n",
              "            await google.colab.kernel.invokeFunction('convertToInteractive',\n",
              "                                                     [key], {});\n",
              "          if (!dataTable) return;\n",
              "\n",
              "          const docLinkHtml = 'Like what you see? Visit the ' +\n",
              "            '<a target=\"_blank\" href=https://colab.research.google.com/notebooks/data_table.ipynb>data table notebook</a>'\n",
              "            + ' to learn more about interactive tables.';\n",
              "          element.innerHTML = '';\n",
              "          dataTable['output_type'] = 'display_data';\n",
              "          await google.colab.output.renderOutput(dataTable, element);\n",
              "          const docLink = document.createElement('div');\n",
              "          docLink.innerHTML = docLinkHtml;\n",
              "          element.appendChild(docLink);\n",
              "        }\n",
              "      </script>\n",
              "    </div>\n",
              "  </div>\n",
              "  "
            ]
          },
          "metadata": {},
          "execution_count": 15
        }
      ]
    },
    {
      "cell_type": "code",
      "source": [
        "df_toy = df[int(0.25*len(df)):int(0.5*len(df))]\n",
        "df_toy['dd'] = df_toy['relative_path'].apply(get_mrcg_from_file)\n",
        "\n",
        "mid = []\n",
        "for i in range(len(df_toy)):\n",
        "  mid.append(df_toy.iloc[i,-1])\n",
        "print(np.mean(np.array(mid))) \n",
        "\n",
        "df_toy = df[int(0.5*len(df)):int(0.75*len(df))]\n",
        "df_toy['dd'] = df_toy['relative_path'].apply(get_mrcg_from_file)\n",
        "\n",
        "mid = []\n",
        "for i in range(len(df_toy)):\n",
        "  mid.append(df_toy.iloc[i,-1])\n",
        "print(np.mean(np.array(mid))) \n",
        "\n",
        "df_toy = df[int(0.75*len(df)):]\n",
        "df_toy['dd'] = df_toy['relative_path'].apply(get_mrcg_from_file)\n",
        "\n",
        "mid = []\n",
        "for i in range(len(df_toy)):\n",
        "  mid.append(df_toy.iloc[i,-1])\n",
        "print(np.mean(np.array(mid))) "
      ],
      "metadata": {
        "colab": {
          "base_uri": "https://localhost:8080/",
          "height": 380
        },
        "id": "h-R9QmrSDatT",
        "outputId": "6a5b70f1-fbdc-4078-a62b-ec43504ed715"
      },
      "execution_count": 8,
      "outputs": [
        {
          "output_type": "error",
          "ename": "KeyboardInterrupt",
          "evalue": "ignored",
          "traceback": [
            "\u001b[0;31m---------------------------------------------------------------------------\u001b[0m",
            "\u001b[0;31mKeyboardInterrupt\u001b[0m                         Traceback (most recent call last)",
            "\u001b[0;32m<ipython-input-8-fb049751c16b>\u001b[0m in \u001b[0;36m<module>\u001b[0;34m()\u001b[0m\n\u001b[1;32m      1\u001b[0m \u001b[0mdf_toy\u001b[0m \u001b[0;34m=\u001b[0m \u001b[0mdf\u001b[0m\u001b[0;34m[\u001b[0m\u001b[0mint\u001b[0m\u001b[0;34m(\u001b[0m\u001b[0;36m0.25\u001b[0m\u001b[0;34m*\u001b[0m\u001b[0mlen\u001b[0m\u001b[0;34m(\u001b[0m\u001b[0mdf\u001b[0m\u001b[0;34m)\u001b[0m\u001b[0;34m)\u001b[0m\u001b[0;34m:\u001b[0m\u001b[0mint\u001b[0m\u001b[0;34m(\u001b[0m\u001b[0;36m0.5\u001b[0m\u001b[0;34m*\u001b[0m\u001b[0mlen\u001b[0m\u001b[0;34m(\u001b[0m\u001b[0mdf\u001b[0m\u001b[0;34m)\u001b[0m\u001b[0;34m)\u001b[0m\u001b[0;34m]\u001b[0m\u001b[0;34m\u001b[0m\u001b[0;34m\u001b[0m\u001b[0m\n\u001b[0;32m----> 2\u001b[0;31m \u001b[0mdf\u001b[0m\u001b[0;34m[\u001b[0m\u001b[0;34m'dd'\u001b[0m\u001b[0;34m]\u001b[0m \u001b[0;34m=\u001b[0m \u001b[0mdf\u001b[0m\u001b[0;34m[\u001b[0m\u001b[0;34m'relative_path'\u001b[0m\u001b[0;34m]\u001b[0m\u001b[0;34m.\u001b[0m\u001b[0mapply\u001b[0m\u001b[0;34m(\u001b[0m\u001b[0mget_wav\u001b[0m\u001b[0;34m)\u001b[0m\u001b[0;34m\u001b[0m\u001b[0;34m\u001b[0m\u001b[0m\n\u001b[0m\u001b[1;32m      3\u001b[0m \u001b[0;34m\u001b[0m\u001b[0m\n\u001b[1;32m      4\u001b[0m \u001b[0mmid\u001b[0m \u001b[0;34m=\u001b[0m \u001b[0;34m[\u001b[0m\u001b[0;34m]\u001b[0m\u001b[0;34m\u001b[0m\u001b[0;34m\u001b[0m\u001b[0m\n\u001b[1;32m      5\u001b[0m \u001b[0;32mfor\u001b[0m \u001b[0mi\u001b[0m \u001b[0;32min\u001b[0m \u001b[0mrange\u001b[0m\u001b[0;34m(\u001b[0m\u001b[0mlen\u001b[0m\u001b[0;34m(\u001b[0m\u001b[0mdf_toy\u001b[0m\u001b[0;34m)\u001b[0m\u001b[0;34m)\u001b[0m\u001b[0;34m:\u001b[0m\u001b[0;34m\u001b[0m\u001b[0;34m\u001b[0m\u001b[0m\n",
            "\u001b[0;32m/usr/local/lib/python3.7/dist-packages/pandas/core/series.py\u001b[0m in \u001b[0;36mapply\u001b[0;34m(self, func, convert_dtype, args, **kwargs)\u001b[0m\n\u001b[1;32m   4355\u001b[0m         \u001b[0mdtype\u001b[0m\u001b[0;34m:\u001b[0m \u001b[0mfloat64\u001b[0m\u001b[0;34m\u001b[0m\u001b[0;34m\u001b[0m\u001b[0m\n\u001b[1;32m   4356\u001b[0m         \"\"\"\n\u001b[0;32m-> 4357\u001b[0;31m         \u001b[0;32mreturn\u001b[0m \u001b[0mSeriesApply\u001b[0m\u001b[0;34m(\u001b[0m\u001b[0mself\u001b[0m\u001b[0;34m,\u001b[0m \u001b[0mfunc\u001b[0m\u001b[0;34m,\u001b[0m \u001b[0mconvert_dtype\u001b[0m\u001b[0;34m,\u001b[0m \u001b[0margs\u001b[0m\u001b[0;34m,\u001b[0m \u001b[0mkwargs\u001b[0m\u001b[0;34m)\u001b[0m\u001b[0;34m.\u001b[0m\u001b[0mapply\u001b[0m\u001b[0;34m(\u001b[0m\u001b[0;34m)\u001b[0m\u001b[0;34m\u001b[0m\u001b[0;34m\u001b[0m\u001b[0m\n\u001b[0m\u001b[1;32m   4358\u001b[0m \u001b[0;34m\u001b[0m\u001b[0m\n\u001b[1;32m   4359\u001b[0m     def _reduce(\n",
            "\u001b[0;32m/usr/local/lib/python3.7/dist-packages/pandas/core/apply.py\u001b[0m in \u001b[0;36mapply\u001b[0;34m(self)\u001b[0m\n\u001b[1;32m   1041\u001b[0m             \u001b[0;32mreturn\u001b[0m \u001b[0mself\u001b[0m\u001b[0;34m.\u001b[0m\u001b[0mapply_str\u001b[0m\u001b[0;34m(\u001b[0m\u001b[0;34m)\u001b[0m\u001b[0;34m\u001b[0m\u001b[0;34m\u001b[0m\u001b[0m\n\u001b[1;32m   1042\u001b[0m \u001b[0;34m\u001b[0m\u001b[0m\n\u001b[0;32m-> 1043\u001b[0;31m         \u001b[0;32mreturn\u001b[0m \u001b[0mself\u001b[0m\u001b[0;34m.\u001b[0m\u001b[0mapply_standard\u001b[0m\u001b[0;34m(\u001b[0m\u001b[0;34m)\u001b[0m\u001b[0;34m\u001b[0m\u001b[0;34m\u001b[0m\u001b[0m\n\u001b[0m\u001b[1;32m   1044\u001b[0m \u001b[0;34m\u001b[0m\u001b[0m\n\u001b[1;32m   1045\u001b[0m     \u001b[0;32mdef\u001b[0m \u001b[0magg\u001b[0m\u001b[0;34m(\u001b[0m\u001b[0mself\u001b[0m\u001b[0;34m)\u001b[0m\u001b[0;34m:\u001b[0m\u001b[0;34m\u001b[0m\u001b[0;34m\u001b[0m\u001b[0m\n",
            "\u001b[0;32m/usr/local/lib/python3.7/dist-packages/pandas/core/apply.py\u001b[0m in \u001b[0;36mapply_standard\u001b[0;34m(self)\u001b[0m\n\u001b[1;32m   1099\u001b[0m                     \u001b[0mvalues\u001b[0m\u001b[0;34m,\u001b[0m\u001b[0;34m\u001b[0m\u001b[0;34m\u001b[0m\u001b[0m\n\u001b[1;32m   1100\u001b[0m                     \u001b[0mf\u001b[0m\u001b[0;34m,\u001b[0m  \u001b[0;31m# type: ignore[arg-type]\u001b[0m\u001b[0;34m\u001b[0m\u001b[0;34m\u001b[0m\u001b[0m\n\u001b[0;32m-> 1101\u001b[0;31m                     \u001b[0mconvert\u001b[0m\u001b[0;34m=\u001b[0m\u001b[0mself\u001b[0m\u001b[0;34m.\u001b[0m\u001b[0mconvert_dtype\u001b[0m\u001b[0;34m,\u001b[0m\u001b[0;34m\u001b[0m\u001b[0;34m\u001b[0m\u001b[0m\n\u001b[0m\u001b[1;32m   1102\u001b[0m                 )\n\u001b[1;32m   1103\u001b[0m \u001b[0;34m\u001b[0m\u001b[0m\n",
            "\u001b[0;32m/usr/local/lib/python3.7/dist-packages/pandas/_libs/lib.pyx\u001b[0m in \u001b[0;36mpandas._libs.lib.map_infer\u001b[0;34m()\u001b[0m\n",
            "\u001b[0;32m<ipython-input-7-5c67eb777e5b>\u001b[0m in \u001b[0;36mget_wav\u001b[0;34m(file)\u001b[0m\n\u001b[1;32m      1\u001b[0m \u001b[0;32mdef\u001b[0m \u001b[0mget_wav\u001b[0m\u001b[0;34m(\u001b[0m\u001b[0mfile\u001b[0m\u001b[0;34m)\u001b[0m\u001b[0;34m:\u001b[0m\u001b[0;34m\u001b[0m\u001b[0;34m\u001b[0m\u001b[0m\n\u001b[0;32m----> 2\u001b[0;31m    \u001b[0mwaveform\u001b[0m\u001b[0;34m,\u001b[0m \u001b[0msr\u001b[0m \u001b[0;34m=\u001b[0m \u001b[0mtorchaudio\u001b[0m\u001b[0;34m.\u001b[0m\u001b[0mload\u001b[0m\u001b[0;34m(\u001b[0m\u001b[0mfile\u001b[0m\u001b[0;34m)\u001b[0m\u001b[0;34m;\u001b[0m \u001b[0mwaveform\u001b[0m \u001b[0;34m=\u001b[0m \u001b[0mwaveform\u001b[0m\u001b[0;34m[\u001b[0m\u001b[0;36m0\u001b[0m\u001b[0;34m]\u001b[0m\u001b[0;34m\u001b[0m\u001b[0;34m\u001b[0m\u001b[0m\n\u001b[0m\u001b[1;32m      3\u001b[0m    \u001b[0;32mreturn\u001b[0m \u001b[0mlen\u001b[0m\u001b[0;34m(\u001b[0m\u001b[0mwaveform\u001b[0m\u001b[0;34m)\u001b[0m\u001b[0;34m\u001b[0m\u001b[0;34m\u001b[0m\u001b[0m\n\u001b[1;32m      4\u001b[0m \u001b[0;34m\u001b[0m\u001b[0m\n\u001b[1;32m      5\u001b[0m \u001b[0mdf_toy\u001b[0m \u001b[0;34m=\u001b[0m \u001b[0mdf\u001b[0m\u001b[0;34m[\u001b[0m\u001b[0;34m:\u001b[0m\u001b[0mint\u001b[0m\u001b[0;34m(\u001b[0m\u001b[0;36m0.25\u001b[0m\u001b[0;34m*\u001b[0m\u001b[0mlen\u001b[0m\u001b[0;34m(\u001b[0m\u001b[0mdf\u001b[0m\u001b[0;34m)\u001b[0m\u001b[0;34m)\u001b[0m\u001b[0;34m]\u001b[0m\u001b[0;34m\u001b[0m\u001b[0;34m\u001b[0m\u001b[0m\n",
            "\u001b[0;32m/usr/local/lib/python3.7/dist-packages/torchaudio/backend/sox_io_backend.py\u001b[0m in \u001b[0;36mload\u001b[0;34m(filepath, frame_offset, num_frames, normalize, channels_first, format)\u001b[0m\n\u001b[1;32m    152\u001b[0m         \u001b[0mfilepath\u001b[0m \u001b[0;34m=\u001b[0m \u001b[0mos\u001b[0m\u001b[0;34m.\u001b[0m\u001b[0mfspath\u001b[0m\u001b[0;34m(\u001b[0m\u001b[0mfilepath\u001b[0m\u001b[0;34m)\u001b[0m\u001b[0;34m\u001b[0m\u001b[0;34m\u001b[0m\u001b[0m\n\u001b[1;32m    153\u001b[0m     return torch.ops.torchaudio.sox_io_load_audio_file(\n\u001b[0;32m--> 154\u001b[0;31m         \u001b[0mfilepath\u001b[0m\u001b[0;34m,\u001b[0m \u001b[0mframe_offset\u001b[0m\u001b[0;34m,\u001b[0m \u001b[0mnum_frames\u001b[0m\u001b[0;34m,\u001b[0m \u001b[0mnormalize\u001b[0m\u001b[0;34m,\u001b[0m \u001b[0mchannels_first\u001b[0m\u001b[0;34m,\u001b[0m \u001b[0mformat\u001b[0m\u001b[0;34m\u001b[0m\u001b[0;34m\u001b[0m\u001b[0m\n\u001b[0m\u001b[1;32m    155\u001b[0m     )\n\u001b[1;32m    156\u001b[0m \u001b[0;34m\u001b[0m\u001b[0m\n",
            "\u001b[0;31mKeyboardInterrupt\u001b[0m: "
          ]
        }
      ]
    },
    {
      "cell_type": "code",
      "source": [
        "print()"
      ],
      "metadata": {
        "id": "t2gFeFTSFXBU"
      },
      "execution_count": null,
      "outputs": []
    },
    {
      "cell_type": "code",
      "source": [
        "df_toy[''].value_counts()"
      ],
      "metadata": {
        "id": "3fuOwokh8nTI"
      },
      "execution_count": null,
      "outputs": []
    },
    {
      "cell_type": "code",
      "source": [
        "df_toy = df[int(0.25*len(df)):int(0.5*len(df))]\n",
        "df_toy['mrcg'] = df_toy['relative_path'].apply(get_mrcg_from_file)\n",
        "max = 0\n",
        "for i in range(len(df_toy)):\n",
        "  if max < df_toy.iloc[i,-1].shape[0]:\n",
        "    max = df_toy.iloc[i,-1].shape[0]\n",
        "print(max) # 73084832 (0:0.25, ), 75348463 (0.25:0.5), 29287689 (0.5:0.75), 26964672 (0.75:1) MAX=75348463\n",
        "\n",
        "\n",
        "df_toy = df[int(0.5*len(df)):int(0.75*len(df))]\n",
        "df_toy['mrcg'] = df_toy['relative_path'].apply(get_mrcg_from_file)\n",
        "max = 0\n",
        "for i in range(len(df_toy)):\n",
        "  if max < df_toy.iloc[i,-1].shape[0]:\n",
        "    max = df_toy.iloc[i,-1].shape[0]\n",
        "print(max) # 73084832 (0:0.25, )\n",
        "\n",
        "\n",
        "df_toy = df[int(0.75*len(df)):]\n",
        "df_toy['mrcg'] = df_toy['relative_path'].apply(get_mrcg_from_file)\n",
        "max = 0\n",
        "for i in range(len(df_toy)):\n",
        "  if max < df_toy.iloc[i,-1].shape[0]:\n",
        "    max = df_toy.iloc[i,-1].shape[0]\n",
        "print(max) # 73084832 (0:0.25, )"
      ],
      "metadata": {
        "id": "Xu1x9rKQLht2"
      },
      "execution_count": null,
      "outputs": []
    },
    {
      "cell_type": "code",
      "source": [
        "df_toy.to_csv('mrcgdata.csv')\n",
        "!cp mrcgdata.csv \"drive/My Drive/\""
      ],
      "metadata": {
        "colab": {
          "base_uri": "https://localhost:8080/"
        },
        "id": "nK3y8qT73boN",
        "outputId": "e25f7a08-7b52-4fe4-ceee-2c18e060080b"
      },
      "execution_count": 21,
      "outputs": [
        {
          "output_type": "execute_result",
          "data": {
            "text/plain": [
              "(768, 2328)"
            ]
          },
          "metadata": {},
          "execution_count": 21
        }
      ]
    },
    {
      "cell_type": "code",
      "source": [
        "class AudioUtil():\n",
        "  \"\"\"\n",
        "  This class will be for various functions that I will use for the audio data\n",
        "  \"\"\"\n",
        "  @staticmethod\n",
        "  def open(audio_file):\n",
        "    \"\"\"\n",
        "    The load method loads the audio file and produces 2 outputs:\n",
        "    - waveform (Tensor): A waveform is a graphical representation of a sound wave as it moves through a medium over time\n",
        "    - sample rate (int): In audio production, a sample rate defines how many times per second a sound is sampled. Technically speaking, it is the frequency of samples used in a digital recording.\n",
        "    The standard sample rate used for audio CDs is 44.1 kilohertz (44,100 hertz). That means each second of a song on a CD contains 44,100 individual samples.\n",
        "    \"\"\"\n",
        "    waveform, samplerate = torchaudio.load(audio_file) # https://pytorch.org/tutorials/beginner/audio_preprocessing_tutorial.html#loading-audio-data-into-tensor\n",
        "    return (waveform, samplerate) # waveform is the PCM data.\n",
        "  \n",
        "  # staticmethod\n",
        "  # def rechannel(aud, new_channel):\n",
        "  #   sig, sr = aud\n",
        "\n",
        "  #   if (sig.shape[0] == new_channel):\n",
        "  #     # Nothing to do\n",
        "  #     return aud\n",
        "\n",
        "  #   if (new_channel == 1):\n",
        "  #     # Convert from stereo to mono by selecting only the first channel\n",
        "  #     resig = sig[:1, :]\n",
        "  #   else:\n",
        "  #     # Convert from mono to stereo by duplicating the first channel\n",
        "  #     resig = torch.cat([sig, sig])\n",
        "\n",
        "  #   return ((resig, sr))\n",
        "\n",
        "  # staticmethod\n",
        "  # def resample(aud, newsr):\n",
        "  #   \"\"\"\n",
        "  #   This method will make sure that my sampling rate is equal across all audio signals.\n",
        "  #   I don't think I need this method because I think I have the same sampling rate across all audio signals. \n",
        "  #   \"\"\"\n",
        "  #   waveform, samplerate = aud # \n",
        "\n",
        "  #   if (samplerate == newsr):\n",
        "  #     # Nothing to do\n",
        "  #     return aud\n",
        "\n",
        "  #   num_channels = waveform.shape[0]\n",
        "  #   # Resample first channel\n",
        "  #   resig = torchaudio.transforms.Resample(samplerate, newsr)(waveform[:1,:])\n",
        "\n",
        "  #   ### Don't think I need this because I think I have mono channels across all audio signals\n",
        "  #   # if (num_channels > 1):\n",
        "  #   #   # Resample the second channel and merge both channels\n",
        "  #   #   retwo = torchaudio.transforms.Resample(samplerate, newsr)(waveform[1:,:])\n",
        "  #   #   resig = torch.cat([resig, retwo])\n",
        "\n",
        "  #   return ((resig, newsr))\n",
        "\n",
        "    @staticmethod\n",
        "    def get_mrcg_from_file(file):\n",
        "      waveform, sr = torchaudio.load(file)\n",
        "      MAX = 75348463 # zero padding so that the length is equal to the length of the longest waveform \n",
        "      waveform, sr = torchaudio.load(file)\n",
        "      target = torch.zeros(MAX)\n",
        "      source = waveform[0]\n",
        "      target[:len(source)] = source\n",
        "      return target\n",
        "\n",
        "  # @ staticmethod\n",
        "  # def pad_trunc(aud, max_ms):\n",
        "  #   sig, sr = aud\n",
        "  #   num_rows, sig_len = sig.shape\n",
        "  #   max_len = sr//1000 * max_ms\n",
        "\n",
        "  #   if (sig_len > max_len):\n",
        "  #     # Truncate the signal to the given length\n",
        "  #     sig = sig[:,:max_len]\n",
        "\n",
        "  #   elif (sig_len < max_len):\n",
        "  #     # Length of padding to add at the beginning and end of the signal\n",
        "  #     pad_begin_len = random.randint(0, max_len - sig_len)\n",
        "  #     pad_end_len = max_len - sig_len - pad_begin_len\n",
        "\n",
        "  #     # Pad with 0s\n",
        "  #     pad_begin = torch.zeros((num_rows, pad_begin_len))\n",
        "  #     pad_end = torch.zeros((num_rows, pad_end_len))\n",
        "\n",
        "  #     sig = torch.cat((pad_begin, sig, pad_end), 1)\n",
        "      \n",
        "  #   return (sig, sr)\n",
        "\n",
        "\n",
        "\n",
        "  # @ staticmethod\n",
        "  # def time_shift(aud, shift_limit):\n",
        "  #   sig,sr = aud\n",
        "  #   _, sig_len = sig.shape\n",
        "  #   shift_amt = int(random.random() * shift_limit * sig_len)\n",
        "  #   return (sig.roll(shift_amt), sr)\n",
        "  \n",
        "  # @ staticmethod\n",
        "  # def spectro_gram(aud, n_mels=64, n_fft=1024, hop_len=None):\n",
        "  #   sig,sr = aud\n",
        "  #   top_db = 80\n",
        "\n",
        "  #   # spec has shape [channel, n_mels, time], where channel is mono, stereo etc\n",
        "  #   spec = transforms.MelSpectrogram(sr, n_fft=n_fft, hop_length=hop_len, n_mels=n_mels)(sig)\n",
        "\n",
        "  #   # Convert to decibels\n",
        "  #   spec = transforms.AmplitudeToDB(top_db=top_db)(spec)\n",
        "  #   return (spec)\n",
        "\n",
        "  # @ staticmethod\n",
        "  # def spectro_augment(spec, max_mask_pct=0.1, n_freq_masks=1, n_time_masks=1):\n",
        "  #   _, n_mels, n_steps = spec.shape\n",
        "  #   mask_value = spec.mean()\n",
        "  #   aug_spec = spec\n",
        "\n",
        "  #   freq_mask_param = max_mask_pct * n_mels\n",
        "  #   for _ in range(n_freq_masks):\n",
        "  #     aug_spec = transforms.FrequencyMasking(freq_mask_param)(aug_spec, mask_value)\n",
        "\n",
        "  #   time_mask_param = max_mask_pct * n_steps\n",
        "  #   for _ in range(n_time_masks):\n",
        "  #     aug_spec = transforms.TimeMasking(time_mask_param)(aug_spec, mask_value)\n",
        "\n",
        "  #   return aug_spec"
      ],
      "metadata": {
        "id": "q5KlKltjzAf_"
      },
      "execution_count": 47,
      "outputs": []
    },
    {
      "cell_type": "markdown",
      "source": [
        "# Data Loader"
      ],
      "metadata": {
        "id": "yZvaLlg-Vo82"
      }
    },
    {
      "cell_type": "code",
      "source": [
        "\n",
        "class SoundDS(Dataset):\n",
        "  def __init__(self, df, data_path):\n",
        "    self.df = df\n",
        "    self.device = torch.device(\"cuda:0\" if torch.cuda.is_available() else \"cpu\")\n",
        "    # self.data_path = str(data_path)\n",
        "    # self.duration = 4000\n",
        "    # self.sr = 22050\n",
        "    # self.channel = 1\n",
        "    # self.shift_pct = 0.4\n",
        "            \n",
        "  \n",
        "  def __len__(self):\n",
        "    return len(self.df)    \n",
        "    \n",
        "  # ----------------------------\n",
        "  # Get i'th item in dataset\n",
        "  # ----------------------------\n",
        "  def __getitem__(self, idx):\n",
        "    # Absolute file path of the audio file - concatenate the audio directory with\n",
        "    # the relative path\n",
        "    # audio_file = self.data_path + self.df.loc[idx, 'relative_path']\n",
        "    \n",
        "    # # Get the Class ID\n",
        "    # class_id = self.df.loc[idx, 'primary_label']\n",
        "\n",
        "    # aud = AudioUtil.open(audio_file)\n",
        "    # # Some sounds have a higher sample rate, or fewer channels compared to the\n",
        "    # # majority. So make all sounds have the same number of channels and same \n",
        "    # # sample rate. Unless the sample rate is the same, the pad_trunc will still\n",
        "    # # result in arrays of different lengths, even though the sound duration is\n",
        "    # # the same.\n",
        "    \n",
        "    \n",
        "    # reaud = AudioUtil.resample(aud, self.sr)\n",
        "    # rechan = AudioUtil.rechannel(reaud, self.channel)\n",
        "\n",
        "    # dur_aud = AudioUtil.pad_trunc(rechan, self.duration)\n",
        "    # shift_aud = AudioUtil.time_shift(dur_aud, self.shift_pct)\n",
        "    # sgram = AudioUtil.spectro_gram(shift_aud, n_mels=64, n_fft=1024, hop_len=None)\n",
        "    # aug_sgram = AudioUtil.spectro_augment(sgram, max_mask_pct=0.1, n_freq_masks=2, n_time_masks=2)\n",
        "    \n",
        "    return df['mrcg'].iloc[idx].to(self.device)"
      ],
      "metadata": {
        "id": "Xd-JqPk785Js"
      },
      "execution_count": null,
      "outputs": []
    },
    {
      "cell_type": "code",
      "source": [
        "myds = SoundDS(df_toy, \"\")\n",
        "\n",
        "# Random split of 80:20 between training and validation\n",
        "num_items = len(myds)\n",
        "num_train = round(num_items * 0.05)\n",
        "num_val = num_items - num_train\n",
        "train_ds, val_ds = random_split(myds, [num_train, num_val])\n",
        "\n",
        "# Create training and validation data loaders\n",
        "train_dl = torch.utils.data.DataLoader(train_ds, batch_size=16, shuffle=True)\n",
        "val_dl = torch.utils.data.DataLoader(val_ds, batch_size=16, shuffle=False)"
      ],
      "metadata": {
        "id": "IyB-A-6xLNlm"
      },
      "execution_count": 49,
      "outputs": []
    },
    {
      "cell_type": "markdown",
      "source": [
        "# Model"
      ],
      "metadata": {
        "id": "-o4p3xdRZjbm"
      }
    },
    {
      "cell_type": "code",
      "source": [
        "\n",
        "\n",
        "# ----------------------------\n",
        "# Audio Classification Model\n",
        "# ----------------------------\n",
        "class AudioClassifier (nn.Module):\n",
        "    # ----------------------------\n",
        "    # Build the model architecture\n",
        "    # ----------------------------\n",
        "    def __init__(self):\n",
        "        super().__init__()\n",
        "        conv_layers = []\n",
        "\n",
        "        # First Convolution Block with Relu and Batch Norm. Use Kaiming Initialization\n",
        "        self.conv1 = nn.Conv2d(1, 8, kernel_size=(5, 5), stride=(2, 2), padding=(2, 2))\n",
        "        self.relu1 = nn.ReLU()\n",
        "        self.bn1 = nn.BatchNorm2d(8)\n",
        "        init.kaiming_normal_(self.conv1.weight, a=0.1)\n",
        "        self.conv1.bias.data.zero_()\n",
        "        conv_layers += [self.conv1, self.relu1, self.bn1]\n",
        "\n",
        "        # Second Convolution Block\n",
        "        self.conv2 = nn.Conv2d(8, 16, kernel_size=(3, 3), stride=(2, 2), padding=(1, 1))\n",
        "        self.relu2 = nn.ReLU()\n",
        "        self.bn2 = nn.BatchNorm2d(16)\n",
        "        init.kaiming_normal_(self.conv2.weight, a=0.1)\n",
        "        self.conv2.bias.data.zero_()\n",
        "        conv_layers += [self.conv2, self.relu2, self.bn2]\n",
        "\n",
        "        # Second Convolution Block\n",
        "        self.conv3 = nn.Conv2d(16, 32, kernel_size=(3, 3), stride=(2, 2), padding=(1, 1))\n",
        "        self.relu3 = nn.ReLU()\n",
        "        self.bn3 = nn.BatchNorm2d(32)\n",
        "        init.kaiming_normal_(self.conv3.weight, a=0.1)\n",
        "        self.conv3.bias.data.zero_()\n",
        "        conv_layers += [self.conv3, self.relu3, self.bn3]\n",
        "\n",
        "        # Second Convolution Block\n",
        "        self.conv4 = nn.Conv2d(32, 64, kernel_size=(3, 3), stride=(2, 2), padding=(1, 1))\n",
        "        self.relu4 = nn.ReLU()\n",
        "        self.bn4 = nn.BatchNorm2d(64)\n",
        "        init.kaiming_normal_(self.conv4.weight, a=0.1)\n",
        "        self.conv4.bias.data.zero_()\n",
        "        conv_layers += [self.conv4, self.relu4, self.bn4]\n",
        "\n",
        "        # Linear Classifier\n",
        "        self.ap = nn.AdaptiveAvgPool2d(output_size=1)\n",
        "        self.lin = nn.Linear(in_features=64, out_features=397)\n",
        "\n",
        "        # Wrap the Convolutional Blocks\n",
        "        self.conv = nn.Sequential(*conv_layers)\n",
        " \n",
        "    # ----------------------------\n",
        "    # Forward pass computations\n",
        "    # ----------------------------\n",
        "    def forward(self, x):\n",
        "        # Run the convolutional blocks\n",
        "        x = self.conv(x)\n",
        "\n",
        "        # Adaptive pool and flatten for input to linear layer\n",
        "        x = self.ap(x)\n",
        "        x = x.view(x.shape[0], -1)\n",
        "\n",
        "        # Linear layer\n",
        "        x = self.lin(x)\n",
        "\n",
        "        # Final output\n",
        "        return x\n",
        "\n",
        "class AudioClassifier(nn.Module):\n",
        "    def __init__(self, input_dim, output_dim):\n",
        "        super().__init__()\n",
        "\n",
        "        self.input_fc = nn.Linear(input_dim, 100)\n",
        "        self.hidden_fc = nn.Linear(100, 100)\n",
        "        self.output_fc = nn.Linear(100, output_dim)\n",
        "\n",
        "    def forward(self, x):\n",
        "\n",
        "        # x = [batch size, height, width]\n",
        "\n",
        "        batch_size = x.shape[0]\n",
        "\n",
        "        x = x.view(batch_size, -1)\n",
        "\n",
        "        # x = [batch size, height * width]\n",
        "\n",
        "        h_1 = F.relu(self.input_fc(x))\n",
        "\n",
        "        # h_1 = [batch size, 250]\n",
        "\n",
        "        h_2 = F.relu(self.hidden_fc(h_1))\n",
        "\n",
        "        # h_2 = [batch size, 100]\n",
        "\n",
        "        y_pred = self.output_fc(h_2)\n",
        "\n",
        "        # y_pred = [batch size, output dim]\n",
        "\n",
        "        return y_pred\n",
        "\n",
        "# Create the model and put it on the GPU if available\n",
        "myModel = AudioClassifier()\n",
        "device = torch.device(\"cuda:0\" if torch.cuda.is_available() else \"cpu\")\n",
        "myModel = myModel.to(device)\n",
        "# Check that it is on Cuda\n",
        "next(myModel.parameters()).device"
      ],
      "metadata": {
        "id": "NTXphqjiZkre"
      },
      "execution_count": null,
      "outputs": []
    },
    {
      "cell_type": "markdown",
      "source": [
        "# Training"
      ],
      "metadata": {
        "id": "DPOhedYHZwaY"
      }
    },
    {
      "cell_type": "code",
      "source": [
        "# ----------------------------\n",
        "# Training Loop\n",
        "# ----------------------------\n",
        "def training(model, train_dl, num_epochs):\n",
        "  # Loss Function, Optimizer and Scheduler\n",
        "  criterion = nn.CrossEntropyLoss()\n",
        "  optimizer = torch.optim.Adam(model.parameters(),lr=0.001)\n",
        "  scheduler = torch.optim.lr_scheduler.OneCycleLR(optimizer, max_lr=0.001,\n",
        "                                                steps_per_epoch=int(len(train_dl)),\n",
        "                                                epochs=num_epochs,\n",
        "                                                anneal_strategy='linear')\n",
        "\n",
        "  # Repeat for each epoch\n",
        "  for epoch in range(num_epochs):\n",
        "    running_loss = 0.0\n",
        "    correct_prediction = 0\n",
        "    total_prediction = 0\n",
        "\n",
        "    # Repeat for each batch in the training set\n",
        "    for i, data in enumerate(train_dl):\n",
        "        # Get the input features and target labels, and put them on the GPU\n",
        "        inputs, labels = torch.tensor(data[0]).to(device), torch.tensor(data[1]).to(device)\n",
        "\n",
        "        # Normalize the inputs\n",
        "        inputs_m, inputs_s = inputs.mean(), inputs.std()\n",
        "        inputs = (inputs - inputs_m) / inputs_s\n",
        "\n",
        "        # Zero the parameter gradients\n",
        "        optimizer.zero_grad()\n",
        "\n",
        "        # forward + backward + optimize\n",
        "        outputs = model(inputs)\n",
        "        loss = criterion(outputs, labels)\n",
        "        loss.backward()\n",
        "        optimizer.step()\n",
        "        scheduler.step()\n",
        "\n",
        "        # Keep stats for Loss and Accuracy\n",
        "        running_loss += loss.item()\n",
        "\n",
        "        # Get the predicted class with the highest score\n",
        "        _, prediction = torch.max(outputs,1)\n",
        "        # Count of predictions that matched the target label\n",
        "        correct_prediction += (prediction == labels).sum().item()\n",
        "        total_prediction += prediction.shape[0]\n",
        "\n",
        "        #if i % 10 == 0:    # print every 10 mini-batches\n",
        "        #    print('[%d, %5d] loss: %.3f' % (epoch + 1, i + 1, running_loss / 10))\n",
        "    \n",
        "    # Print stats at the end of the epoch\n",
        "    num_batches = len(train_dl)\n",
        "    avg_loss = running_loss / num_batches\n",
        "    acc = correct_prediction/total_prediction\n",
        "    print(f'Epoch: {epoch}, Loss: {avg_loss:.2f}, Accuracy: {acc:.2f}')\n",
        "\n",
        "  print('Finished Training')\n",
        "  \n",
        "num_epochs=2   # Just for demo, adjust this higher.\n",
        "training(myModel, train_dl, num_epochs)\n",
        "\n"
      ],
      "metadata": {
        "id": "QqPM4EQBZyL3"
      },
      "execution_count": null,
      "outputs": []
    },
    {
      "cell_type": "markdown",
      "source": [
        "# Testing"
      ],
      "metadata": {
        "id": "5SmanXRXZ8RN"
      }
    },
    {
      "cell_type": "code",
      "source": [
        "# ----------------------------\n",
        "# Inference\n",
        "# ----------------------------\n",
        "def inference (model, val_dl):\n",
        "  correct_prediction = 0\n",
        "  total_prediction = 0\n",
        "\n",
        "  # Disable gradient updates\n",
        "  with torch.no_grad():\n",
        "    for data in val_dl:\n",
        "      # Get the input features and target labels, and put them on the GPU\n",
        "      inputs, labels = data[0].to(device), data[1].to(device)\n",
        "\n",
        "      # Normalize the inputs\n",
        "      inputs_m, inputs_s = inputs.mean(), inputs.std()\n",
        "      inputs = (inputs - inputs_m) / inputs_s\n",
        "\n",
        "      # Get predictions\n",
        "      outputs = model(inputs)\n",
        "\n",
        "      # Get the predicted class with the highest score\n",
        "      _, prediction = torch.max(outputs,1)\n",
        "      # Count of predictions that matched the target label\n",
        "      correct_prediction += (prediction == labels).sum().item()\n",
        "      total_prediction += prediction.shape[0]\n",
        "    \n",
        "  acc = correct_prediction/total_prediction\n",
        "  print(f'Accuracy: {acc:.2f}, Total items: {total_prediction}')\n",
        "\n",
        "# Run inference on trained model with the validation set\n",
        "inference(myModel, val_dl)"
      ],
      "metadata": {
        "colab": {
          "base_uri": "https://localhost:8080/",
          "height": 345
        },
        "id": "-GTt7l-zZ9ef",
        "outputId": "5c691077-55d6-4021-ec9e-e71b176f552b"
      },
      "execution_count": null,
      "outputs": [
        {
          "output_type": "error",
          "ename": "KeyboardInterrupt",
          "evalue": "ignored",
          "traceback": [
            "\u001b[0;31m---------------------------------------------------------------------------\u001b[0m",
            "\u001b[0;31mKeyboardInterrupt\u001b[0m                         Traceback (most recent call last)",
            "\u001b[0;32m<ipython-input-9-6a50540e5dc6>\u001b[0m in \u001b[0;36m<module>\u001b[0;34m()\u001b[0m\n\u001b[1;32m     29\u001b[0m \u001b[0;34m\u001b[0m\u001b[0m\n\u001b[1;32m     30\u001b[0m \u001b[0;31m# Run inference on trained model with the validation set\u001b[0m\u001b[0;34m\u001b[0m\u001b[0;34m\u001b[0m\u001b[0;34m\u001b[0m\u001b[0m\n\u001b[0;32m---> 31\u001b[0;31m \u001b[0minference\u001b[0m\u001b[0;34m(\u001b[0m\u001b[0mmyModel\u001b[0m\u001b[0;34m,\u001b[0m \u001b[0mval_dl\u001b[0m\u001b[0;34m)\u001b[0m\u001b[0;34m\u001b[0m\u001b[0;34m\u001b[0m\u001b[0m\n\u001b[0m",
            "\u001b[0;32m<ipython-input-9-6a50540e5dc6>\u001b[0m in \u001b[0;36minference\u001b[0;34m(model, val_dl)\u001b[0m\n\u001b[1;32m      8\u001b[0m   \u001b[0;31m# Disable gradient updates\u001b[0m\u001b[0;34m\u001b[0m\u001b[0;34m\u001b[0m\u001b[0;34m\u001b[0m\u001b[0m\n\u001b[1;32m      9\u001b[0m   \u001b[0;32mwith\u001b[0m \u001b[0mtorch\u001b[0m\u001b[0;34m.\u001b[0m\u001b[0mno_grad\u001b[0m\u001b[0;34m(\u001b[0m\u001b[0;34m)\u001b[0m\u001b[0;34m:\u001b[0m\u001b[0;34m\u001b[0m\u001b[0;34m\u001b[0m\u001b[0m\n\u001b[0;32m---> 10\u001b[0;31m     \u001b[0;32mfor\u001b[0m \u001b[0mdata\u001b[0m \u001b[0;32min\u001b[0m \u001b[0mval_dl\u001b[0m\u001b[0;34m:\u001b[0m\u001b[0;34m\u001b[0m\u001b[0;34m\u001b[0m\u001b[0m\n\u001b[0m\u001b[1;32m     11\u001b[0m       \u001b[0;31m# Get the input features and target labels, and put them on the GPU\u001b[0m\u001b[0;34m\u001b[0m\u001b[0;34m\u001b[0m\u001b[0;34m\u001b[0m\u001b[0m\n\u001b[1;32m     12\u001b[0m       \u001b[0minputs\u001b[0m\u001b[0;34m,\u001b[0m \u001b[0mlabels\u001b[0m \u001b[0;34m=\u001b[0m \u001b[0mdata\u001b[0m\u001b[0;34m[\u001b[0m\u001b[0;36m0\u001b[0m\u001b[0;34m]\u001b[0m\u001b[0;34m.\u001b[0m\u001b[0mto\u001b[0m\u001b[0;34m(\u001b[0m\u001b[0mdevice\u001b[0m\u001b[0;34m)\u001b[0m\u001b[0;34m,\u001b[0m \u001b[0mdata\u001b[0m\u001b[0;34m[\u001b[0m\u001b[0;36m1\u001b[0m\u001b[0;34m]\u001b[0m\u001b[0;34m.\u001b[0m\u001b[0mto\u001b[0m\u001b[0;34m(\u001b[0m\u001b[0mdevice\u001b[0m\u001b[0;34m)\u001b[0m\u001b[0;34m\u001b[0m\u001b[0;34m\u001b[0m\u001b[0m\n",
            "\u001b[0;32m/usr/local/lib/python3.7/dist-packages/torch/utils/data/dataloader.py\u001b[0m in \u001b[0;36m__next__\u001b[0;34m(self)\u001b[0m\n\u001b[1;32m    528\u001b[0m             \u001b[0;32mif\u001b[0m \u001b[0mself\u001b[0m\u001b[0;34m.\u001b[0m\u001b[0m_sampler_iter\u001b[0m \u001b[0;32mis\u001b[0m \u001b[0;32mNone\u001b[0m\u001b[0;34m:\u001b[0m\u001b[0;34m\u001b[0m\u001b[0;34m\u001b[0m\u001b[0m\n\u001b[1;32m    529\u001b[0m                 \u001b[0mself\u001b[0m\u001b[0;34m.\u001b[0m\u001b[0m_reset\u001b[0m\u001b[0;34m(\u001b[0m\u001b[0;34m)\u001b[0m\u001b[0;34m\u001b[0m\u001b[0;34m\u001b[0m\u001b[0m\n\u001b[0;32m--> 530\u001b[0;31m             \u001b[0mdata\u001b[0m \u001b[0;34m=\u001b[0m \u001b[0mself\u001b[0m\u001b[0;34m.\u001b[0m\u001b[0m_next_data\u001b[0m\u001b[0;34m(\u001b[0m\u001b[0;34m)\u001b[0m\u001b[0;34m\u001b[0m\u001b[0;34m\u001b[0m\u001b[0m\n\u001b[0m\u001b[1;32m    531\u001b[0m             \u001b[0mself\u001b[0m\u001b[0;34m.\u001b[0m\u001b[0m_num_yielded\u001b[0m \u001b[0;34m+=\u001b[0m \u001b[0;36m1\u001b[0m\u001b[0;34m\u001b[0m\u001b[0;34m\u001b[0m\u001b[0m\n\u001b[1;32m    532\u001b[0m             \u001b[0;32mif\u001b[0m \u001b[0mself\u001b[0m\u001b[0;34m.\u001b[0m\u001b[0m_dataset_kind\u001b[0m \u001b[0;34m==\u001b[0m \u001b[0m_DatasetKind\u001b[0m\u001b[0;34m.\u001b[0m\u001b[0mIterable\u001b[0m \u001b[0;32mand\u001b[0m\u001b[0;31m \u001b[0m\u001b[0;31m\\\u001b[0m\u001b[0;34m\u001b[0m\u001b[0;34m\u001b[0m\u001b[0m\n",
            "\u001b[0;32m/usr/local/lib/python3.7/dist-packages/torch/utils/data/dataloader.py\u001b[0m in \u001b[0;36m_next_data\u001b[0;34m(self)\u001b[0m\n\u001b[1;32m    568\u001b[0m     \u001b[0;32mdef\u001b[0m \u001b[0m_next_data\u001b[0m\u001b[0;34m(\u001b[0m\u001b[0mself\u001b[0m\u001b[0;34m)\u001b[0m\u001b[0;34m:\u001b[0m\u001b[0;34m\u001b[0m\u001b[0;34m\u001b[0m\u001b[0m\n\u001b[1;32m    569\u001b[0m         \u001b[0mindex\u001b[0m \u001b[0;34m=\u001b[0m \u001b[0mself\u001b[0m\u001b[0;34m.\u001b[0m\u001b[0m_next_index\u001b[0m\u001b[0;34m(\u001b[0m\u001b[0;34m)\u001b[0m  \u001b[0;31m# may raise StopIteration\u001b[0m\u001b[0;34m\u001b[0m\u001b[0;34m\u001b[0m\u001b[0m\n\u001b[0;32m--> 570\u001b[0;31m         \u001b[0mdata\u001b[0m \u001b[0;34m=\u001b[0m \u001b[0mself\u001b[0m\u001b[0;34m.\u001b[0m\u001b[0m_dataset_fetcher\u001b[0m\u001b[0;34m.\u001b[0m\u001b[0mfetch\u001b[0m\u001b[0;34m(\u001b[0m\u001b[0mindex\u001b[0m\u001b[0;34m)\u001b[0m  \u001b[0;31m# may raise StopIteration\u001b[0m\u001b[0;34m\u001b[0m\u001b[0;34m\u001b[0m\u001b[0m\n\u001b[0m\u001b[1;32m    571\u001b[0m         \u001b[0;32mif\u001b[0m \u001b[0mself\u001b[0m\u001b[0;34m.\u001b[0m\u001b[0m_pin_memory\u001b[0m\u001b[0;34m:\u001b[0m\u001b[0;34m\u001b[0m\u001b[0;34m\u001b[0m\u001b[0m\n\u001b[1;32m    572\u001b[0m             \u001b[0mdata\u001b[0m \u001b[0;34m=\u001b[0m \u001b[0m_utils\u001b[0m\u001b[0;34m.\u001b[0m\u001b[0mpin_memory\u001b[0m\u001b[0;34m.\u001b[0m\u001b[0mpin_memory\u001b[0m\u001b[0;34m(\u001b[0m\u001b[0mdata\u001b[0m\u001b[0;34m)\u001b[0m\u001b[0;34m\u001b[0m\u001b[0;34m\u001b[0m\u001b[0m\n",
            "\u001b[0;32m/usr/local/lib/python3.7/dist-packages/torch/utils/data/_utils/fetch.py\u001b[0m in \u001b[0;36mfetch\u001b[0;34m(self, possibly_batched_index)\u001b[0m\n\u001b[1;32m     47\u001b[0m     \u001b[0;32mdef\u001b[0m \u001b[0mfetch\u001b[0m\u001b[0;34m(\u001b[0m\u001b[0mself\u001b[0m\u001b[0;34m,\u001b[0m \u001b[0mpossibly_batched_index\u001b[0m\u001b[0;34m)\u001b[0m\u001b[0;34m:\u001b[0m\u001b[0;34m\u001b[0m\u001b[0;34m\u001b[0m\u001b[0m\n\u001b[1;32m     48\u001b[0m         \u001b[0;32mif\u001b[0m \u001b[0mself\u001b[0m\u001b[0;34m.\u001b[0m\u001b[0mauto_collation\u001b[0m\u001b[0;34m:\u001b[0m\u001b[0;34m\u001b[0m\u001b[0;34m\u001b[0m\u001b[0m\n\u001b[0;32m---> 49\u001b[0;31m             \u001b[0mdata\u001b[0m \u001b[0;34m=\u001b[0m \u001b[0;34m[\u001b[0m\u001b[0mself\u001b[0m\u001b[0;34m.\u001b[0m\u001b[0mdataset\u001b[0m\u001b[0;34m[\u001b[0m\u001b[0midx\u001b[0m\u001b[0;34m]\u001b[0m \u001b[0;32mfor\u001b[0m \u001b[0midx\u001b[0m \u001b[0;32min\u001b[0m \u001b[0mpossibly_batched_index\u001b[0m\u001b[0;34m]\u001b[0m\u001b[0;34m\u001b[0m\u001b[0;34m\u001b[0m\u001b[0m\n\u001b[0m\u001b[1;32m     50\u001b[0m         \u001b[0;32melse\u001b[0m\u001b[0;34m:\u001b[0m\u001b[0;34m\u001b[0m\u001b[0;34m\u001b[0m\u001b[0m\n\u001b[1;32m     51\u001b[0m             \u001b[0mdata\u001b[0m \u001b[0;34m=\u001b[0m \u001b[0mself\u001b[0m\u001b[0;34m.\u001b[0m\u001b[0mdataset\u001b[0m\u001b[0;34m[\u001b[0m\u001b[0mpossibly_batched_index\u001b[0m\u001b[0;34m]\u001b[0m\u001b[0;34m\u001b[0m\u001b[0;34m\u001b[0m\u001b[0m\n",
            "\u001b[0;32m/usr/local/lib/python3.7/dist-packages/torch/utils/data/_utils/fetch.py\u001b[0m in \u001b[0;36m<listcomp>\u001b[0;34m(.0)\u001b[0m\n\u001b[1;32m     47\u001b[0m     \u001b[0;32mdef\u001b[0m \u001b[0mfetch\u001b[0m\u001b[0;34m(\u001b[0m\u001b[0mself\u001b[0m\u001b[0;34m,\u001b[0m \u001b[0mpossibly_batched_index\u001b[0m\u001b[0;34m)\u001b[0m\u001b[0;34m:\u001b[0m\u001b[0;34m\u001b[0m\u001b[0;34m\u001b[0m\u001b[0m\n\u001b[1;32m     48\u001b[0m         \u001b[0;32mif\u001b[0m \u001b[0mself\u001b[0m\u001b[0;34m.\u001b[0m\u001b[0mauto_collation\u001b[0m\u001b[0;34m:\u001b[0m\u001b[0;34m\u001b[0m\u001b[0;34m\u001b[0m\u001b[0m\n\u001b[0;32m---> 49\u001b[0;31m             \u001b[0mdata\u001b[0m \u001b[0;34m=\u001b[0m \u001b[0;34m[\u001b[0m\u001b[0mself\u001b[0m\u001b[0;34m.\u001b[0m\u001b[0mdataset\u001b[0m\u001b[0;34m[\u001b[0m\u001b[0midx\u001b[0m\u001b[0;34m]\u001b[0m \u001b[0;32mfor\u001b[0m \u001b[0midx\u001b[0m \u001b[0;32min\u001b[0m \u001b[0mpossibly_batched_index\u001b[0m\u001b[0;34m]\u001b[0m\u001b[0;34m\u001b[0m\u001b[0;34m\u001b[0m\u001b[0m\n\u001b[0m\u001b[1;32m     50\u001b[0m         \u001b[0;32melse\u001b[0m\u001b[0;34m:\u001b[0m\u001b[0;34m\u001b[0m\u001b[0;34m\u001b[0m\u001b[0m\n\u001b[1;32m     51\u001b[0m             \u001b[0mdata\u001b[0m \u001b[0;34m=\u001b[0m \u001b[0mself\u001b[0m\u001b[0;34m.\u001b[0m\u001b[0mdataset\u001b[0m\u001b[0;34m[\u001b[0m\u001b[0mpossibly_batched_index\u001b[0m\u001b[0;34m]\u001b[0m\u001b[0;34m\u001b[0m\u001b[0;34m\u001b[0m\u001b[0m\n",
            "\u001b[0;32m/usr/local/lib/python3.7/dist-packages/torch/utils/data/dataset.py\u001b[0m in \u001b[0;36m__getitem__\u001b[0;34m(self, idx)\u001b[0m\n\u001b[1;32m    469\u001b[0m         \u001b[0;32mif\u001b[0m \u001b[0misinstance\u001b[0m\u001b[0;34m(\u001b[0m\u001b[0midx\u001b[0m\u001b[0;34m,\u001b[0m \u001b[0mlist\u001b[0m\u001b[0;34m)\u001b[0m\u001b[0;34m:\u001b[0m\u001b[0;34m\u001b[0m\u001b[0;34m\u001b[0m\u001b[0m\n\u001b[1;32m    470\u001b[0m             \u001b[0;32mreturn\u001b[0m \u001b[0mself\u001b[0m\u001b[0;34m.\u001b[0m\u001b[0mdataset\u001b[0m\u001b[0;34m[\u001b[0m\u001b[0;34m[\u001b[0m\u001b[0mself\u001b[0m\u001b[0;34m.\u001b[0m\u001b[0mindices\u001b[0m\u001b[0;34m[\u001b[0m\u001b[0mi\u001b[0m\u001b[0;34m]\u001b[0m \u001b[0;32mfor\u001b[0m \u001b[0mi\u001b[0m \u001b[0;32min\u001b[0m \u001b[0midx\u001b[0m\u001b[0;34m]\u001b[0m\u001b[0;34m]\u001b[0m\u001b[0;34m\u001b[0m\u001b[0;34m\u001b[0m\u001b[0m\n\u001b[0;32m--> 471\u001b[0;31m         \u001b[0;32mreturn\u001b[0m \u001b[0mself\u001b[0m\u001b[0;34m.\u001b[0m\u001b[0mdataset\u001b[0m\u001b[0;34m[\u001b[0m\u001b[0mself\u001b[0m\u001b[0;34m.\u001b[0m\u001b[0mindices\u001b[0m\u001b[0;34m[\u001b[0m\u001b[0midx\u001b[0m\u001b[0;34m]\u001b[0m\u001b[0;34m]\u001b[0m\u001b[0;34m\u001b[0m\u001b[0;34m\u001b[0m\u001b[0m\n\u001b[0m\u001b[1;32m    472\u001b[0m \u001b[0;34m\u001b[0m\u001b[0m\n\u001b[1;32m    473\u001b[0m     \u001b[0;32mdef\u001b[0m \u001b[0m__len__\u001b[0m\u001b[0;34m(\u001b[0m\u001b[0mself\u001b[0m\u001b[0;34m)\u001b[0m\u001b[0;34m:\u001b[0m\u001b[0;34m\u001b[0m\u001b[0;34m\u001b[0m\u001b[0m\n",
            "\u001b[0;32m<ipython-input-5-1b1d11293fc5>\u001b[0m in \u001b[0;36m__getitem__\u001b[0;34m(self, idx)\u001b[0m\n\u001b[1;32m     31\u001b[0m     \u001b[0mclass_id\u001b[0m \u001b[0;34m=\u001b[0m \u001b[0mself\u001b[0m\u001b[0;34m.\u001b[0m\u001b[0mdf\u001b[0m\u001b[0;34m.\u001b[0m\u001b[0mloc\u001b[0m\u001b[0;34m[\u001b[0m\u001b[0midx\u001b[0m\u001b[0;34m,\u001b[0m \u001b[0;34m'primary_label'\u001b[0m\u001b[0;34m]\u001b[0m\u001b[0;34m\u001b[0m\u001b[0;34m\u001b[0m\u001b[0m\n\u001b[1;32m     32\u001b[0m \u001b[0;34m\u001b[0m\u001b[0m\n\u001b[0;32m---> 33\u001b[0;31m     \u001b[0maud\u001b[0m \u001b[0;34m=\u001b[0m \u001b[0mAudioUtil\u001b[0m\u001b[0;34m.\u001b[0m\u001b[0mopen\u001b[0m\u001b[0;34m(\u001b[0m\u001b[0maudio_file\u001b[0m\u001b[0;34m)\u001b[0m\u001b[0;34m\u001b[0m\u001b[0;34m\u001b[0m\u001b[0m\n\u001b[0m\u001b[1;32m     34\u001b[0m     \u001b[0;31m# Some sounds have a higher sample rate, or fewer channels compared to the\u001b[0m\u001b[0;34m\u001b[0m\u001b[0;34m\u001b[0m\u001b[0;34m\u001b[0m\u001b[0m\n\u001b[1;32m     35\u001b[0m     \u001b[0;31m# majority. So make all sounds have the same number of channels and same\u001b[0m\u001b[0;34m\u001b[0m\u001b[0;34m\u001b[0m\u001b[0;34m\u001b[0m\u001b[0m\n",
            "\u001b[0;32m<ipython-input-4-f5e9388a3549>\u001b[0m in \u001b[0;36mopen\u001b[0;34m(audio_file)\u001b[0m\n\u001b[1;32m     18\u001b[0m     \u001b[0mThe\u001b[0m \u001b[0mstandard\u001b[0m \u001b[0msample\u001b[0m \u001b[0mrate\u001b[0m \u001b[0mused\u001b[0m \u001b[0;32mfor\u001b[0m \u001b[0maudio\u001b[0m \u001b[0mCDs\u001b[0m \u001b[0;32mis\u001b[0m \u001b[0;36m44.1\u001b[0m \u001b[0mkilohertz\u001b[0m \u001b[0;34m(\u001b[0m\u001b[0;36m44\u001b[0m\u001b[0;34m,\u001b[0m\u001b[0;36m100\u001b[0m \u001b[0mhertz\u001b[0m\u001b[0;34m)\u001b[0m\u001b[0;34m.\u001b[0m \u001b[0mThat\u001b[0m \u001b[0mmeans\u001b[0m \u001b[0meach\u001b[0m \u001b[0msecond\u001b[0m \u001b[0mof\u001b[0m \u001b[0ma\u001b[0m \u001b[0msong\u001b[0m \u001b[0mon\u001b[0m \u001b[0ma\u001b[0m \u001b[0mCD\u001b[0m \u001b[0mcontains\u001b[0m \u001b[0;36m44\u001b[0m\u001b[0;34m,\u001b[0m\u001b[0;36m100\u001b[0m \u001b[0mindividual\u001b[0m \u001b[0msamples\u001b[0m\u001b[0;34m.\u001b[0m\u001b[0;34m\u001b[0m\u001b[0;34m\u001b[0m\u001b[0m\n\u001b[1;32m     19\u001b[0m     \"\"\"\n\u001b[0;32m---> 20\u001b[0;31m     \u001b[0mwaveform\u001b[0m\u001b[0;34m,\u001b[0m \u001b[0msamplerate\u001b[0m \u001b[0;34m=\u001b[0m \u001b[0mtorchaudio\u001b[0m\u001b[0;34m.\u001b[0m\u001b[0mload\u001b[0m\u001b[0;34m(\u001b[0m\u001b[0maudio_file\u001b[0m\u001b[0;34m)\u001b[0m \u001b[0;31m# https://pytorch.org/tutorials/beginner/audio_preprocessing_tutorial.html#loading-audio-data-into-tensor\u001b[0m\u001b[0;34m\u001b[0m\u001b[0;34m\u001b[0m\u001b[0m\n\u001b[0m\u001b[1;32m     21\u001b[0m     \u001b[0;32mreturn\u001b[0m \u001b[0;34m(\u001b[0m\u001b[0mwaveform\u001b[0m\u001b[0;34m,\u001b[0m \u001b[0msamplerate\u001b[0m\u001b[0;34m)\u001b[0m \u001b[0;31m# waveform is the PCM data.\u001b[0m\u001b[0;34m\u001b[0m\u001b[0;34m\u001b[0m\u001b[0m\n\u001b[1;32m     22\u001b[0m \u001b[0;34m\u001b[0m\u001b[0m\n",
            "\u001b[0;32m/usr/local/lib/python3.7/dist-packages/torchaudio/backend/sox_io_backend.py\u001b[0m in \u001b[0;36mload\u001b[0;34m(filepath, frame_offset, num_frames, normalize, channels_first, format)\u001b[0m\n\u001b[1;32m    152\u001b[0m         \u001b[0mfilepath\u001b[0m \u001b[0;34m=\u001b[0m \u001b[0mos\u001b[0m\u001b[0;34m.\u001b[0m\u001b[0mfspath\u001b[0m\u001b[0;34m(\u001b[0m\u001b[0mfilepath\u001b[0m\u001b[0;34m)\u001b[0m\u001b[0;34m\u001b[0m\u001b[0;34m\u001b[0m\u001b[0m\n\u001b[1;32m    153\u001b[0m     return torch.ops.torchaudio.sox_io_load_audio_file(\n\u001b[0;32m--> 154\u001b[0;31m         \u001b[0mfilepath\u001b[0m\u001b[0;34m,\u001b[0m \u001b[0mframe_offset\u001b[0m\u001b[0;34m,\u001b[0m \u001b[0mnum_frames\u001b[0m\u001b[0;34m,\u001b[0m \u001b[0mnormalize\u001b[0m\u001b[0;34m,\u001b[0m \u001b[0mchannels_first\u001b[0m\u001b[0;34m,\u001b[0m \u001b[0mformat\u001b[0m\u001b[0;34m\u001b[0m\u001b[0;34m\u001b[0m\u001b[0m\n\u001b[0m\u001b[1;32m    155\u001b[0m     )\n\u001b[1;32m    156\u001b[0m \u001b[0;34m\u001b[0m\u001b[0m\n",
            "\u001b[0;31mKeyboardInterrupt\u001b[0m: "
          ]
        }
      ]
    }
  ]
}